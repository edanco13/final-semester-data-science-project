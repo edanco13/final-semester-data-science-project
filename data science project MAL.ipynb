{
 "cells": [
  {
   "cell_type": "markdown",
   "id": "63b927e8",
   "metadata": {},
   "source": [
    "# Data Science Project\n",
    "\n",
    "In this project, we will discover whatever it is possible to predict if anime will be successful in MyAnimeList.\n",
    "\n",
    "This project's data was taken from the popular website MyAnimeList.\n",
    "MyAnimeList is the world's largest database and social community for anime and manga. MyAnimeList includes lists of the \"best\" animes driven by the community-submitted scores. And we will try to find what influences those lists and makes anime successful with the help of machine learning algorithms. Successful anime I defined as an anime with a score of 7 and above.\n",
    "\n",
    "My workflow will include five steps which are:\n",
    "1. Defining a research question or hypothesis\n",
    "2. Data acquisition\n",
    "3. Data handling\n",
    "4. EDA\n",
    "5. Advanced data analysis\n",
    "\n",
    "Now, the first step was already complete outside this notebook.\n",
    "So let us go to the second step."
   ]
  },
  {
   "cell_type": "markdown",
   "id": "1261f2ff",
   "metadata": {},
   "source": [
    "## 2. Data acquisition"
   ]
  },
  {
   "cell_type": "markdown",
   "id": "a3f8db0d",
   "metadata": {},
   "source": [
    "some general imports, BeautifulSoup and requests which we will use for the crawler"
   ]
  },
  {
   "cell_type": "code",
   "execution_count": 1,
   "id": "85cbb5e3",
   "metadata": {},
   "outputs": [],
   "source": [
    "import bs4\n",
    "from bs4 import BeautifulSoup  \n",
    "import pandas as pd\n",
    "import numpy as np\n",
    "import requests\n",
    "import time\n",
    "import random\n",
    "import seaborn as sns\n",
    "from matplotlib import pyplot as plt"
   ]
  },
  {
   "cell_type": "markdown",
   "id": "5c4bc793",
   "metadata": {},
   "source": [
    "A simple function to request a page and load the BeautifulSoup object"
   ]
  },
  {
   "cell_type": "code",
   "execution_count": 3,
   "id": "1b57ee7a",
   "metadata": {},
   "outputs": [],
   "source": [
    "def load_soup_object(url):\n",
    "    response = requests.get(url)\n",
    "    return BeautifulSoup(response.content, 'html.parser')"
   ]
  },
  {
   "cell_type": "markdown",
   "id": "ff59f928",
   "metadata": {},
   "source": [
    "Function to get the score on a page, used in ***extract_anime__info*** to get a score of prequel anime and the source score which is on different pages "
   ]
  },
  {
   "cell_type": "code",
   "execution_count": 4,
   "id": "7a1b2c27",
   "metadata": {},
   "outputs": [],
   "source": [
    "def get_score(url):\n",
    "    soup=load_soup_object(url)\n",
    "    try:\n",
    "        return soup.find(\"span\",itemprop=\"ratingValue\").text.strip()\n",
    "    except:\n",
    "        return np.nan"
   ]
  },
  {
   "cell_type": "markdown",
   "id": "982d2390",
   "metadata": {},
   "source": [
    "The extract_anime__info function gets lists by reference with all the information gathered until now and adds the current anime information to the right lists. In case something was not found adds NaN."
   ]
  },
  {
   "cell_type": "code",
   "execution_count": 6,
   "id": "5302d7f9",
   "metadata": {},
   "outputs": [],
   "source": [
    "def extract_anime__info(url,name,Type,score,members,have_prequal,prequal_score,is_original,source_score,studios,genres,synopsis,premiered):\n",
    "    soup = load_soup_object(url)\n",
    "    name.append(soup.find(\"h1\",class_=\"title-name h1_bold_none\").find(\"strong\").text.strip())\n",
    "    Type.append(soup.find(\"span\",class_=\"dark_text\",string=\"Type:\").next_sibling.next_sibling.text.strip())\n",
    "    try:\n",
    "        score.append(soup.find(\"span\",itemprop=\"ratingValue\").text.strip())\n",
    "    except:\n",
    "         score.append(np.nan)\n",
    "    members.append(soup.find(\"span\",class_=\"numbers members\").find(\"strong\").text.strip())\n",
    "    genres.append([genre.text for genre in soup.select('span[itemprop=\"genre\"]')])\n",
    "    synopsis.append(soup.find(\"p\",itemprop=\"description\").text.strip())\n",
    "    try:\n",
    "        premiered.append(soup.find(\"span\",class_=\"dark_text\",string=\"Premiered:\").next_sibling.next_sibling.text.strip())\n",
    "    except:\n",
    "        premiered.append(np.nan)\n",
    "    try:\n",
    "        studios.append(soup.find(\"span\",class_=\"information studio author\").find(\"a\").text.strip())\n",
    "    except:\n",
    "        studios.append(np.nan)\n",
    "    if(soup.find(\"span\",class_=\"dark_text\",string=\"Source:\").next_sibling.strip()!=\"Original\"):\n",
    "        is_original.append(0)\n",
    "        try:\n",
    "            source_url=\"https://myanimelist.net/\"+soup.find(\"table\",class_=\"anime_detail_related_anime\").find(\"td\",class_=\"ar fw-n borderClass\",string=\"Adaptation:\").next_sibling.find(\"a\")[\"href\"]\n",
    "            time.sleep(2)\n",
    "            source_score.append(get_score(source_url))\n",
    "        except:\n",
    "            source_score.append(np.nan)\n",
    "    else:\n",
    "        is_original.append(1)\n",
    "        source_score.append(np.nan)\n",
    "    try:\n",
    "        temp=soup.find(\"table\",class_=\"anime_detail_related_anime\").find(\"td\",class_=\"ar fw-n borderClass\",string=\"Prequel:\")\n",
    "        if(temp!=None):\n",
    "            have_prequal.append(1)\n",
    "            prequel_url=\"https://myanimelist.net/\"+temp.next_sibling.find(\"a\")[\"href\"]\n",
    "            time.sleep(2)\n",
    "            prequal_score.append(get_score(prequel_url))\n",
    "        else:\n",
    "            have_prequal.append(0)\n",
    "            prequal_score.append(np.nan)\n",
    "    except:\n",
    "        have_prequal.append(0)\n",
    "        prequal_score.append(np.nan)\n",
    " \n",
    "    "
   ]
  },
  {
   "cell_type": "markdown",
   "id": "fd7655bc",
   "metadata": {},
   "source": [
    "Testing if extract_anime__info works well"
   ]
  },
  {
   "cell_type": "code",
   "execution_count": 36,
   "id": "9c81509f",
   "metadata": {},
   "outputs": [
    {
     "name": "stdout",
     "output_type": "stream",
     "text": [
      "[nan]\n",
      "--- 6.3908751010894775 seconds ---\n"
     ]
    }
   ],
   "source": [
    "start_time = time.time()\n",
    "name=[]\n",
    "Type=[]\n",
    "score=[]\n",
    "members=[]\n",
    "have_prequal=[]\n",
    "prequal_score=[]\n",
    "is_original=[]\n",
    "source_score=[]\n",
    "studios=[]\n",
    "genres=[]\n",
    "synopsis=[]\n",
    "premiered=[]\n",
    "extract_anime__info(\"https://myanimelist.net/anime/34540/Pokemon_Movie_20__Kimi_ni_Kimeta\",name,Type,score,members,have_prequal,prequal_score,is_original,source_score,studios,genres,synopsis,premiered)\n",
    "print(prequal_score)\n",
    "print(\"--- %s seconds ---\" % (time.time() - start_time))"
   ]
  },
  {
   "cell_type": "markdown",
   "id": "a5e81b1f",
   "metadata": {},
   "source": [
    "And it works!\n",
    "Now it is time to scrap the site.\n",
    "The URL where the list is looks like https://myanimelist.net/topanime.php?limit= **pages**.\n",
    "the **pages** are multiple of 50 cause every page has 50 anime on it.\n",
    "So every time we finish scrapping the 50 animes on the page we add to the variable pages 50 and load the next page.\n",
    "When we are on a new page we check the score of the anime at the head of the table, if it is a number we continue normally otherwise we set the pages variable to -1 and break the loop, returning a DataFrame from all the lists."
   ]
  },
  {
   "cell_type": "code",
   "execution_count": 7,
   "id": "6ab34459",
   "metadata": {},
   "outputs": [],
   "source": [
    "def crawler(url):\n",
    "    name=[]\n",
    "    Type=[]\n",
    "    score=[]\n",
    "    members=[]\n",
    "    have_prequal=[]\n",
    "    prequal_score=[]\n",
    "    is_original=[]\n",
    "    source_score=[]\n",
    "    studios=[]\n",
    "    genres=[]\n",
    "    synopsis=[]\n",
    "    premiered=[]\n",
    "    for_errors=[name,Type,score,members,have_prequal,prequal_score,is_original,source_score,studios,genres,synopsis,premiered]\n",
    "    pages=0\n",
    "    soup=load_soup_object(url+str(pages))\n",
    "    while(pages!=-1):\n",
    "        if(soup.find(\"td\",class_=\"score ac fs14\").find(\"span\").text==\"N/A\"):\n",
    "            pages=-1\n",
    "            continue\n",
    "        pages+=50\n",
    "        print(soup.find(\"td\",class_=\"score ac fs14\").find(\"span\").text)\n",
    "        links=soup.select('a[class=\"hoverinfo_trigger fl-l ml12 mr8\"]')\n",
    "        for link in links:\n",
    "            time.sleep(5 + random.random())\n",
    "            try:\n",
    "                extract_anime__info(link[\"href\"],name,Type,score,members,have_prequal,prequal_score\n",
    "                                    ,is_original,source_score,studios,genres,synopsis,premiered)\n",
    "            except:\n",
    "                print(name[-1])\n",
    "                _min=len(for_errors[0])\n",
    "                for size in for_errors:\n",
    "                    if(_min>len(size)):\n",
    "                        _min=len(size)\n",
    "                for x in for_errors:\n",
    "                    if len(x)>_min:\n",
    "                        x.pop()\n",
    "        soup=load_soup_object(url+str(pages))\n",
    "    return pd.DataFrame({'name':name,'score':score,'type':Type,'genres':genres,'members':members\n",
    "                         ,'have_prequal':have_prequal,'prequal_score':prequal_score,'is_original':is_original\n",
    "                         ,'source_score':source_score,'studio':studios,\"premiered\":premiered,\"synopsis\":synopsis})\n",
    "        \n",
    "        \n",
    "        \n",
    "        \n",
    "    \n",
    "    "
   ]
  },
  {
   "cell_type": "code",
   "execution_count": 8,
   "id": "ab9f4b5e",
   "metadata": {},
   "outputs": [
    {
     "name": "stdout",
     "output_type": "stream",
     "text": [
      "9.14\n",
      "8.69\n",
      "8.53\n",
      "8.42\n",
      "Yoru ni Kakeru\n",
      "8.34\n",
      "Gotcha!\n",
      "Kawaki wo Ameku\n",
      "Shelter (Music)\n",
      "8.28\n",
      "8.22\n",
      "8.18\n",
      "8.13\n",
      "Interstella5555: The 5tory of The 5ecret 5tar 5ystem\n",
      "8.10\n",
      "8.05\n",
      "8.01\n",
      "Koukaku Kidoutai: Stand Alone Complex 2nd GIG - Individual Eleven\n",
      "Koukaku Kidoutai: Stand Alone Complex 2nd GIG - Individual Eleven\n",
      "Nagi no Asu kara\n",
      "Nagi no Asu kara\n",
      "Nagi no Asu kara\n",
      "Nagi no Asu kara\n",
      "Nagi no Asu kara\n",
      "Nagi no Asu kara\n",
      "Nagi no Asu kara\n",
      "Nagi no Asu kara\n",
      "Nagi no Asu kara\n",
      "Nagi no Asu kara\n",
      "Nagi no Asu kara\n",
      "Nagi no Asu kara\n",
      "Nagi no Asu kara\n",
      "Marine Shukkou!!\n",
      "7.97\n",
      "7.94\n",
      "7.91\n",
      "Inochi no Tabekata\n",
      "7.88\n",
      "Dramaturgy\n",
      "7.85\n",
      "7.82\n",
      "7.79\n",
      "Ame wo Matsu,\n",
      "The Everlasting Guilty Crown\n",
      "7.77\n",
      "Snow Halation\n",
      "7.74\n",
      "Ghost (Music)\n",
      "Heikousen\n",
      "7.72\n",
      "Yuuseiboushi\n",
      "7.70\n",
      "7.68\n",
      "Kokoro Yohou\n",
      "7.66\n",
      "7.64\n",
      "7.62\n",
      "Q\n",
      "Ruru-chan no Jisatsu Haishin\n",
      "7.60\n",
      "Yoru wa Honoka\n",
      "Raison d'être\n",
      "7.58\n",
      "7.56\n",
      "Muteki-kyuu*Believer / Mirai Harmony\n",
      "Uchiage Hanabi\n",
      "Mekakucity Records\n",
      "7.55\n",
      "7.54\n",
      "Tokyo Autumn Session\n",
      "7.52\n",
      "Hollowness\n",
      "Mekakucity Days\n",
      "Happy Party Train\n",
      "Itte.\n",
      "7.51\n",
      "Bokura Mada Underground\n",
      "Doggy God's Street\n",
      "The Perfect World\n",
      "Yamiyo\n",
      "7.49\n",
      "Yoku\n",
      "7.48\n",
      "Ano Ko Secret\n",
      "7.46\n",
      "Koi ni Naritai Aquarium\n",
      "On Your Mark\n",
      "Oki ni Mesu mama\n",
      "7.45\n",
      "CLAMP in Wonderland 2\n",
      "Neo-Aspect\n",
      "Onnanoko ni Naritai\n",
      "7.44\n",
      "Yasashii Suisei\n",
      "7.42\n",
      "Micchiri Neko March\n",
      "MILGЯAM\n",
      "Oz.\n",
      "7.41\n",
      "7.40\n",
      "Unison\n",
      "Umi no Yuurei\n",
      "7.39\n",
      "Lilac\n",
      "7.37\n",
      "Shinkai\n",
      "Higashi no Eden: Falling Down\n",
      "Perfect Day\n",
      "7.36\n",
      "7.35\n",
      "Mekakucity V's\n",
      "7.34\n",
      "Yellow (Music)\n",
      "7.33\n",
      "7.31\n",
      "Wonderful Rush\n",
      "7.31\n",
      "KU-RU-KU-RU Cruller!\n",
      "7.30\n",
      "Answer (2016)\n",
      "7.29\n",
      "Otogi\n",
      "7.28\n",
      "Main Actor\n",
      "Kimi no Kokoro wa Kagayaiteru kai?\n",
      "7.27\n",
      "Macross F Music Clip Shuu: Nyankuri\n",
      "Diamond Fusion\n",
      "Hitchcock\n",
      "7.26\n",
      "Mitaiken Horizon\n",
      "Natsu-iro Egao de 1, 2, Jump!\n",
      "7.25\n",
      "No Doubt\n",
      "7.24\n",
      "Template\n",
      "All Alone With You\n",
      "7.23\n",
      "Mogyutto \"Love\" de Sekkinchuu!\n",
      "7.22\n",
      "Ano Yume wo Nazotte\n",
      "Daze\n",
      "7.21\n",
      "Kuraku Kuroku\n",
      "Additional Memory\n",
      "7.20\n",
      "Mr.AFFECTiON\n",
      "Music S.T.A.R.T!!\n",
      "7.19\n",
      "Echo\n",
      "7.18\n",
      "Suna no Wakusei feat. Hatsune Miku\n",
      "Shin Gengou Nyankogelion\n",
      "7.17\n",
      "Dazzling White Town\n",
      "Halzion\n",
      "7.16\n",
      "7.15\n",
      "7.14\n",
      "Obenkyou Shitoite yo\n",
      "Mudai\n",
      "Prayer X\n",
      "Sayonara Gokko\n",
      "7.13\n",
      "Kokoro Magic \"A to Z\"\n",
      "Piplup Step\n",
      "7.12\n",
      "Tengen Toppa Gurren Lagann: Kirameki★Yoko Box - Pieces of Sweet Stars\n",
      "WiSH VOYAGE\n",
      "7.11\n",
      "I Wanna\n",
      "Taikutsu wo Saien Shinaide\n",
      "Tengen Toppa Gurren Lagann: Parallel Works\n",
      "7.09\n",
      "Nonsense Bungaku\n",
      "Dakara Boku wa Ongaku wo Yameta\n",
      "Kyoukaisen\n",
      "Bokura no Live Kimi to no Life\n",
      "7.08\n",
      "MEMORiES MELODiES\n",
      "Otsukimi Recital\n",
      "7.07\n",
      "Bouto\n",
      "7.06\n",
      "7.05\n",
      "Tabun\n",
      "3-gatsu no Lion meets Bump of Chicken\n",
      "Daybreak Interlude\n",
      "Black★Rock Shooter\n",
      "7.04\n",
      "RESTART POiNTER\n",
      "My Song\n",
      "Re Boot\n",
      "7.03\n",
      "A song for You! You? You!!\n",
      "Eine Kleine\n",
      "Leo\n",
      "7.02\n",
      "Saga Incident\n",
      "7.01\n",
      "Gunjou Sanka\n",
      "7.00\n",
      "Sakura Nagashi\n",
      "Yakusoku (Music)\n",
      "Love Letter\n",
      "6.98\n",
      "Sangenshoku\n",
      "6.97\n",
      "Egomama\n",
      "6.96\n",
      "Baumkuchen End\n",
      "Cinderella\n",
      "Coruscate: DNA\n",
      "6.94\n",
      "The TV Show\n",
      "6.93\n",
      "Sekiranun Graffiti\n",
      "6.92\n",
      "Haru Dorobou\n",
      "Tennis no Ouji-sama: The Band of Princes Film Kick the Future\n",
      "Re-raise\n",
      "6.91\n",
      "Tengen Toppa Gurren Lagann: Parallel Works 2\n",
      "Black Shout\n",
      "6.90\n",
      "Stella-Rium\n",
      "The iDOLM@STER Cinderella Girls 2nd Anniversary PV\n",
      "6.89\n",
      "Drop\n",
      "6.88\n",
      "Watashi no Tenshi\n",
      "Aishite Aishite Aishite\n",
      "Bye Bye Rainy\n",
      "Hakugin\n",
      "6.87\n",
      "Aisai\n",
      "Bang!Bang!Bang!\n",
      "6.86\n",
      "Moon Pride\n",
      "Sore wo Ai to Yobu dake\n",
      "Star Beat!: Hoshi no Kodou\n",
      "CLAMP in Wonderland\n",
      "Kaisou Ressha\n",
      "6.85\n",
      "Crescent Rise\n",
      "Kimi ni Sekai\n",
      "Korekuraide Utau\n",
      "Tell Your World\n",
      "6.83\n",
      "Tokimeki Runners\n",
      "Hajimari wa Kimi no Sora\n",
      "Heart Realize\n",
      "Kansaete Kuyashiiwa\n",
      "6.82\n",
      "Taishou Roman\n",
      "6.81\n",
      "Kawaiku Naritai\n",
      "6.80\n",
      "Kirameki Inokori Daisensou\n",
      "Mr. Fixer\n",
      "Moshi mo Inochi ga Egaketara\n",
      "Nanatsu-iro REALiZE\n",
      "Nirvana\n",
      "6.79\n",
      "Lost One no Goukoku wo Utattemita\n",
      "Children Record\n",
      "Clover\n",
      "6.78\n",
      "Makafushigi\n",
      "Mirror Tune\n",
      "6.77\n",
      "Kakero\n",
      "Kamiari Algorithm\n",
      "6.76\n",
      "Ring no Seraph\n",
      "The Naked King\n",
      "TWO-MIX: White Reflection\n",
      "6.75\n",
      "Encore\n",
      "6.74\n",
      "Shisouhan\n",
      "6.73\n",
      "Gisoku no Moses\n",
      "Hologram Circus\n",
      "Introduction\n",
      "6.72\n",
      "Hunch Gray\n",
      "MONSTER GENERATiON\n",
      "Play Dice!\n",
      "6.71\n",
      "Boy\n",
      "6.70\n",
      "Mera Mera\n",
      "Ohedo Julia-Night\n",
      "Paprika (Music)\n",
      "Senkou\n",
      "Tadashii Itsuwari kara no Kishou\n",
      "Milabo\n",
      "Peko Random Brain!\n",
      "6.69\n",
      "Days\n",
      "Haze Haseru Hateru made\n",
      "6.68\n",
      "Haruka\n",
      "Leopard Eyes\n",
      "Nautilus\n",
      "6.67\n",
      "Viva Namida\n",
      "Caesura of Despair\n",
      "Freely Tomorrow\n",
      "Ame to Cappuccino\n",
      "6.66\n",
      "Hashiri Hajimeta bakari no Kimi ni\n",
      "6.66\n",
      "Mikagura Gakuen Kumikyoku\n",
      "Android Girl feat. Hatsune Miku\n",
      "FlashBack\n",
      "6.65\n",
      "Beautiful World\n",
      "Dilemma\n",
      "Tenshi no Agape\n",
      "Tsubame\n",
      "6.64\n",
      "Porte\n",
      "True Tears Epilogue\n",
      "Hitogata\n",
      "6.63\n",
      "Lucky☆Orb feat. Hatsune Miku\n",
      "6.62\n",
      "Uchuu no Kisetsu\n",
      "Never Giving Up!\n",
      "Nihonbashi Koukashita R Keikaku\n",
      "Parade\n",
      "Yes! BanG_Dream!\n",
      "6.61\n",
      "Howling\n",
      "Force Live\n",
      "Kono Machi ni Hare wa Konai\n",
      "6.60\n",
      "Kono Machi ni Hare wa Konai\n",
      "6.59\n",
      "Fire Emblem Heroes: Lonely Puppeteer (Spring Remix)\n",
      "6.58\n",
      "Shimi\n",
      "Shining☆Romance\n",
      "Wish\n",
      "6.57\n",
      "Nisoku Hokou\n",
      "6.56\n",
      "Nowisee\n",
      "Romeo to Cinderella wo Utattemita\n",
      "Repaint\n",
      "Shinryaku! Ika Musume: Ika Ice Tabena-ika?\n",
      "Suiyoubi no Yakusoku\n",
      "Survival of the Illest\n",
      "6.55\n",
      "Baka ja Nai no ni\n",
      "Demon Dance Tokyo\n",
      "Kami nomi zo Shiru Sekai: Nonstop!! Hunters\n",
      "Aimai Elegy\n",
      "6.54\n",
      "It'll Be Fine!\n",
      "Kami nomi zo Shiru Sekai: Natsu-iro Surprise\n",
      "6.53\n",
      "Sakugasaku\n",
      "Futon no Naka kara Detakunai\n",
      "6.53\n",
      "Amazing Nuts!\n",
      "Bibitto Love\n",
      "Douse Nakunaru dake\n",
      "Levitating\n",
      "6.52\n",
      "Mou Ichido Luminous\n",
      "Passion\n",
      "Perfect Sekai\n",
      "Precure All Stars Movie: Haru no Carnival♪ - Ima Koko kara\n",
      "Redial\n",
      "Shinryaku! Ika Musume: Kore ga Umi e no Ai Jana-ika!\n",
      "Atarashii Sekai\n",
      "Brand new Pastel Road!\n",
      "6.51\n",
      "Dear. Mr \"F\"\n",
      "Fake.Fake.Fake\n",
      "Haru Hisagi\n",
      "6.50\n",
      "Kimagure Mercy\n",
      "Melty Land Nightmare\n",
      "Musician\n",
      "6.49\n",
      "Burenai Ai de\n",
      "Humanoid\n",
      "Boukentai: Mori no Yuusha\n",
      "Deep Blue Town e Oide yo\n",
      "6.48\n",
      "Just Awake\n",
      "Motto ne!\n",
      "Take Your Way\n",
      "6.47\n",
      "X²: Double X\n",
      "Egao\n",
      "Ham\n",
      "Koufukuron\n",
      "Crystal Clear\n",
      "6.46\n",
      "Fluximation\n",
      "I Was King\n",
      "Polaris\n",
      "Psychogram feat. Hatsune Miku\n",
      "Seven Count\n",
      "6.46\n",
      "Universe\n",
      "Tsuki no Waltz\n",
      "Fly with the Night\n",
      "6.45\n",
      "Mune no Kemuri\n",
      "6.44\n",
      "The iDOLM@STER Cinderella Girls: Starlight Stage - 5th Anniversary! \"Go Just Go!\" PV\n",
      "Trepanation\n",
      "Utakata Hanabi\n",
      "Weekender Girl\n",
      "Zetsubou Funsai Shoujo ∞ Amida\n",
      "Utopia\n",
      "6.43\n",
      "Daylight\n",
      "Kachou Fuugetsu\n",
      "Kyou kara Omoide\n",
      "Lioness' Pride\n",
      "Alien Alien wo Utattemita\n",
      "Arifureta Itsuka\n",
      "Galo Sengen\n",
      "6.42\n",
      "Mousou Kanshou Daishou Renmei feat. Hatsune Miku\n",
      "Renai Saiban\n",
      "Tsuki ni Hoeru\n",
      "6.41\n",
      "Good Morning\n",
      "Haiiro no Saga\n",
      "Karakuri Pierrot wo Utattemita\n",
      "Cobalt World\n",
      "6.40\n",
      "Kumo to Yuurei\n",
      "Newsong\n",
      "Red\n",
      "Relationship Scramble feat. Hatsune Miku\n",
      "6.39\n",
      "Yakou\n",
      "Colours\n",
      "6.38\n",
      "Kiss of Life\n",
      "Lupin the Third x Monkey Majik\n",
      "Teiketsu Bolt\n",
      "6.37\n",
      "Yasashii March: The Tender March\n",
      "Everlasting Snow\n",
      "Happiness World\n",
      "Light Lag\n",
      "6.36\n",
      "Hajimari no Sokudo\n",
      "Hakkoutai Solar Cycle\n",
      "Suicide Ballad\n",
      "We Two\n",
      "6.35\n",
      "The iDOLM@STER Million Live! \"Dreaming!\" Animation PV\n",
      "Heart Challenger\n",
      "Daisan no Shinzou\n",
      "6.34\n",
      "Juntoumei Shounen\n",
      "Loveit\n",
      "Tatakau Mono-tachi e Ai wo Komete\n",
      "Peut-etre Toi\n",
      "Re:I Am\n",
      "6.33\n",
      "Shissou Word\n",
      "Yuuki no Baton\n",
      "Brand New Story\n",
      "Curry Meshi in Miracle\n",
      "6.32\n",
      "Aisubeki Mirai e\n",
      "Anata no Koe\n",
      "6.32\n",
      "That Is How I Roll!\n",
      "Natsu no Niwa\n",
      "Renkyori Enai\n",
      "Tsunagu, Soramoyou\n",
      "6.31\n",
      "Airy Me\n",
      "6.30\n",
      "Miracle\n",
      "Shuwarin☆Dorimin\n",
      "Metronome\n",
      "6.29\n",
      "Aitsura Zenin Dousoukai\n",
      "Crazy Roulette\n",
      "Cotton Candy Ei-Ei-Oh!\n",
      "6.28\n",
      "Koi Tsubomi\n",
      "Omoide wa Kireide\n",
      "6.27\n",
      "Tegami: Haikei Juugo no Kimi e\n",
      "A-ra-shi: Reborn\n",
      "Careless\n",
      "Diary\n",
      "Kanchigaisei Han Kiboushou feat. Hatsune Miku\n",
      "6.26\n",
      "Kimi ga Inakucha!\n",
      "Live Beyond!!\n",
      "Philip\n",
      "Nameless\n",
      "Neo-Neon\n",
      "Shampoo no Nioi ga Shita\n",
      "6.25\n",
      "We are Bulletproof: The Eternal\n",
      "Bokura Mada Underground (2022)\n",
      "Dear Brave\n",
      "Happy Happy Party!\n",
      "Egao no Orquesta!\n",
      "6.24\n",
      "Ookami Heart\n",
      "Miss Monochrome: Music Clips\n",
      "Nonbiri to,\n",
      "T7S Longing for Summer Again and Again: Harukaze\n",
      "6.23\n",
      "Transfer\n",
      "Deep Blue Song\n",
      "fake!fake!\n",
      "Kimi wo Matsu\n",
      "6.22\n",
      "Shounen to Mahou no Robot\n",
      "Monotonous Purgatory\n",
      "6.21\n",
      "Tarareba\n",
      "Goal Line\n",
      "Jin Sheng Yuan\n",
      "Follow Me\n",
      "6.20\n",
      "Hope\n",
      "Rusty Nail\n",
      "Tatehoko Tsubasa\n",
      "6.19\n",
      "Rikaisha\n",
      "Sister\n",
      "Jack Nicholson\n",
      "Happy☆Twinkle\n",
      "6.18\n",
      "Kakuchou Shoujo-kei Trinary: Ex.MV\n",
      "More feat. Anderson .Paak\n",
      "Survival\n",
      "Naisho no Hanashi\n",
      "Negative Shinkaron feat. Hatsune Miku\n",
      "6.17\n",
      "Esoragoto Spiral\n",
      "Joukyuusei\n",
      "Boku wa Mada 7-sai Datta\n",
      "Carol (Music)\n",
      "6.16\n",
      "Sound & Fury\n",
      "Strobe Light\n",
      "6.15\n",
      "Umiyuri Kaiteitan\n",
      "Hotohashiru\n",
      "Kando≠Reduction\n",
      "Another: Misaki Mei - Shizukani\n",
      "6.14\n",
      "6.14\n",
      "World Calling\n",
      "Yumeyume\n",
      "Otome no Inori\n",
      "Sonna Ame no Hi ni Wa\n",
      "Boku wa Sonzai Shiteinakatta\n",
      "Decorator\n",
      "6.13\n",
      "Kami nomi Kakushi\n",
      "Nemuri no Mori\n",
      "SAI: Part 1 / Revolving... to the Core\n",
      "6.12\n",
      "Mizuiro no One-Piece\n",
      "Role Playing Soldier\n",
      "Star Night Snow\n",
      "6.11\n",
      "Himitsu Spark\n",
      "6.10\n",
      "Sweet Devil feat. Hatsune Miku\n",
      "Tottoko Hamtarou: Best Hit Ham-chan'zu Music Clip\n",
      "Mug\n",
      "Sekai Meisaku Douwa\n"
     ]
    },
    {
     "name": "stdout",
     "output_type": "stream",
     "text": [
      "6.09\n",
      "Gravity (2019)\n",
      "Hand in Hand\n",
      "Bungaku Shoujo\n",
      "Dive to Blue\n",
      "Dr.\n",
      "6.08\n",
      "Sleeping Beauty\n",
      "Quote\n",
      "Showtime\n",
      "Teeter\n",
      "6.07\n",
      "Kedamono Damono\n",
      "Boku wa Kimi no Namida\n",
      "Gin no Yuri\n",
      "Girl Electric\n",
      "Kimi dake no Boku de Iru kara\n",
      "6.06\n",
      "Misenai Namida wa, Kitto Itsuka\n",
      "Mukougaoka Chisato wa Tada Mitsumeteita no Datta\n",
      "Paradise (Music)\n",
      "Towa no Kizuna\n",
      "Timeless\n",
      "6.05\n",
      "Donten\n",
      "Go Now!\n",
      "Himawari\n",
      "Jishu Seisaku Movie Binchou-tan\n",
      "Lost\n",
      "Piece\n",
      "QUI\n",
      "6.04\n",
      "Hikari no Akuma\n",
      "6.03\n",
      "Neko Matsuri\n",
      "Play the Lupin: Clips x Parts Collection\n",
      "Urban Caravan\n",
      "6.02\n",
      "Witch Hat: Majo to Boushi no Waltz\n",
      "Mine\n",
      "Miss Monochrome: Watashi dake no Monogatari\n",
      "Afraid To Be Cool / Raise Me Up\n",
      "Fake Style\n",
      "La Primavera\n",
      "Aftermath\n",
      "Bad Habits\n",
      "6.00\n",
      "By Your Side\n",
      "Kotonoha Breakdown\n",
      "Mahou Sensei Negima! Tokubetsu Eizou\n",
      "Meryuu\n",
      "Shina Dark: Kuroki Tsuki no Ou to Souheki no Tsuki no Himegimi\n",
      "Still\n",
      "Soratobu Toshi Keikaku\n",
      "5.99\n",
      "World's End Umbrella\n",
      "Ao ga Niki Umi Yori Fukai Sora no Shita\n",
      "Kaze wa Fuiteru ka?\n",
      "Love in Ruins feat. Sinéad Harnett\n",
      "Baymax\n",
      "Dry Dry Try\n",
      "5.98\n",
      "Hitojichi Koukan feat. Hatsune Miku\n",
      "Kanojo wa Zombie\n",
      "Kaze no Toori Michi\n",
      "Little Scarlet Bad Girl feat. Hatsune Miku\n",
      "Miren Record\n",
      "Vivi\n",
      "5.98\n",
      "Nico Niconnect!\n",
      "Xpice\n",
      "Yuki no Furu Machi\n",
      "Bacterial Contamination\n",
      "Eureka\n",
      "Hate You\n",
      "Kimi no Iru Basho\n",
      "5.97\n",
      "Kimi no Iru Basho\n",
      "Banzai Rizing!\n",
      "Maiodore! Maimai Time\n",
      "Nani mo Shite Agerarenai\n",
      "Po\n",
      "5.95\n",
      "Tomorrow's Song\n",
      "Connected\n",
      "Extra\n",
      "AAside\n",
      "Choco to Watashi\n",
      "Citrus (Music)\n",
      "Cocktail Prince: Shaking Night!!\n",
      "5.94\n",
      "Electric Love feat. Hatsune Miku\n",
      "Pokemon Daisuki Club\n",
      "Royal Memories\n",
      "Robotic Girl\n",
      "5.93\n",
      "Yodaka no Hoshi (Music)\n",
      "Haita\n",
      "Hanabi\n",
      "Heart Chrome feat. Anon & Kanon\n",
      "5.92\n",
      "Subarashii Sekai\n",
      "Daisy Blue\n",
      "Don't Worry: Monotarinai Monogatari\n",
      "Horizon\n",
      "Idobata Gossip\n",
      "5.90\n",
      "Daredemo Nai Monster\n",
      "GAME OVER feat. Hatsune Miku\n",
      "Nagseo feat. Yerin Baek\n",
      "Tooryanse\n",
      "5.89\n",
      "Chime\n",
      "Compiler: Music Clips in Trackdown\n",
      "DušaN\n",
      "Kawazuno Mekaridoki\n",
      "Koi Hanabi\n",
      "Deep Blue Song (September 2017)\n",
      "Downloader\n",
      "L'Œil du cyclone\n",
      "Rainbow Signal: Hi-Fi Set\n",
      "5.88\n",
      "Vocaloid China Project Senden Animation\n",
      "Otome Chic\n",
      "Koi to Byounetsu\n",
      "Anta e\n",
      "Bouen no March\n",
      "Kanashimi no Kodomo-tachi\n",
      "5.86\n",
      "Mahou no Tenshi Creamy Mami: Zutto Kitto Motto\n",
      "Shippo no Kimochi\n",
      "Storywriter\n",
      "Toilet no Kamisama\n",
      "Nexus\n",
      "Sarashimono\n",
      "Twinkle World feat. Hatsune Miku\n",
      "5.85\n",
      "Fake Style II\n",
      "Hana no Nioi\n",
      "Emerald no Oka\n",
      "Gakuen Handsome: Legend of Sexy\n",
      "Hakimono to Kasa no Monogatari\n",
      "Mahou no Tenshi Creamy Mami: Curtain Call\n",
      "5.84\n",
      "Yasashi-sa\n",
      "Yell\n",
      "Namida no Tsubomi\n",
      "Special Nu World\n",
      "Defend Love\n",
      "Gregorio\n",
      "Kiss Shite Hoshii\n",
      "5.82\n",
      "Monochro∞Blue Sky\n",
      "27th\n",
      "Antinotice\n",
      "Aozora\n",
      "Beam!\n",
      "5.81\n",
      "Harinezumi\n",
      "Behind a Smile\n",
      "Dance, Dance, Dance\n",
      "First Squad\n",
      "Halfway\n",
      "Kimi ga Mita Sora wa\n",
      "Magical Halloween: Miracle★Quartet\n",
      "Moonfesta\n",
      "Original\n",
      "5.80\n",
      "Yume no Ukiyo ni Saitemina\n",
      "Yumekui Shoujo\n",
      "Carry Me Off feat. Hatsune Miku\n",
      "Hane (2015)\n",
      "5.79\n",
      "Lilac (Bombs Jun Togawa)\n",
      "Blue Star feat. Hatsune Miku\n",
      "Popful Mail\n",
      "Sobakasu\n",
      "Mahou Shoujo Lyrical Nanoha: Lyrical Toy Box\n",
      "Nobiro Nobiro Daisuki na Ki\n",
      "5.77\n",
      "Session High⤴\n",
      "Change Our Mirai!\n",
      "Clone\n",
      "Full Moon Party\n",
      "Kagi Hime Monogatari: Eikyuu Alice Rondo - Extra Song\n",
      "Bohemian Rhapsody\n",
      "Daitan Futeki ni Koi Shitai\n",
      "Dive to Blue (October 2016)\n",
      "Dream Creator feat. GUMI\n",
      "5.76\n",
      "Kikyuu\n",
      "Marine Mirage\n",
      "Present (Music)\n",
      "Ribbon\n",
      "99 Illusion!\n",
      "5.75\n",
      "Dore Dore no Uta\n",
      "Erementar Gerad: Aozora no Senki\n",
      "Mahou no Tenshi Creamy Mami: Lovely Serenade\n",
      "Baby Maniacs feat. Hatsune Miku\n",
      "Desktop Cinderella feat. Hatsune Miku\n",
      "Ever Green Never End\n",
      "Fake Doll\n",
      "I'm Just Me\n",
      "Iiwake Love Song\n",
      "5.74\n",
      "Yumekui Shirokuro Baku\n",
      "Melody Line\n",
      "Out Of My Head\n",
      "Who Am I?\n",
      "Aisou ze!\n",
      "Ginga\n",
      "5.73\n",
      "Bytheway Dance\n",
      "Egao no Hana\n",
      "Mousou Teikoku Chikuonki\n",
      "My Dearest Song\n",
      "Sea Breeze\n",
      "Spunky Afro Tiger Jet\n",
      "Take It Easy\n",
      "5.71\n",
      "Random\n",
      "Supermarket Flowers\n",
      "Toward Morning\n",
      "Alba\n",
      "Committed Red\n",
      "Kuro\n",
      "Akai Hana Shiroi Hana\n",
      "Botsuraku\n",
      "Ikezu\n",
      "Ishitsubutsu Toriatsukaijo\n",
      "5.70\n",
      "Memories (Music)\n",
      "To Dimension\n",
      "Windy\n",
      "Maria†Holic: Run Run Riru Ran Ran Rara\n",
      "Believe\n",
      "Caligula\n",
      "Echolocation\n",
      "HORIZON feat. Hatsune Miku\n",
      "5.69\n",
      "Mahou no Princess Minky Momo: Hitomi no Seiza - Minky Momo Song Special\n",
      "Because\n",
      "Boku wa Kimi wo Warawanai\n",
      "Boku wa Kuma\n",
      "Forsaken\n",
      "Hello Kagerou\n",
      "Korekarasaki, Nando Anata to.\n",
      "Skirt\n",
      "Sunny Days!\n",
      "5.67\n",
      "Nimrod\n",
      "Ten no Kawa\n",
      "TRAPxTRAP feat. Hatsune Miku\n",
      "Ab-rah\n",
      "Ape\n",
      "Casablanca\n",
      "Cerberus\n",
      "Hanabira\n",
      "loTus feat. Pt. Ajay Pohankar\n",
      "Mahou no Yousei Persia: Escape!\n",
      "Beat in Love (2018)\n",
      "Boku wa Mou Inai\n",
      "Gekkou Shokudou\n",
      "It Girl\n",
      "5.66\n",
      "Makkuramori no Uta\n",
      "Marine Dreamin' (2017)\n",
      "Nemurihime\n",
      "Uchuu Hikoushi no Uta\n",
      "Mission School\n",
      "Shout Our Evidence!\n",
      "Space Station No.9\n",
      "365-nichi no Love Song\n",
      "Cocktail Prince: Making Love!!\n",
      "Fire Bird\n",
      "Fuki to Hiyoko\n",
      "5.65\n",
      "4-Day Weekend\n",
      "A Christmas Song\n",
      "Ame no Ten Ten\n",
      "Anokoro no Namida wa\n",
      "Ashita e Mukau Hito\n",
      "Dance XX\n",
      "Gekiyaba∞Bokkan!!\n",
      "Initiation feat. Hatsune Miku\n",
      "Mirror Mirror (Bombs BiS)\n",
      "Please! Marry Me!!\n",
      "Pop in Q Dance MV\n",
      "Reunion (Music)\n",
      "Roto Spread\n",
      "Velvet Underworld: Alternative\n",
      "White Tree\n",
      "5.63\n",
      "Bungaku Shounen no Yuuutsu\n",
      "Everyday Affair\n",
      "Gooorgeous\n",
      "Ashi\n",
      "Blue Hawaii feat. Crush, Penomeco\n",
      "Distorted Princess\n",
      "Kita e: Pure Session\n",
      "Mizutori\n",
      "Molly Star-Racer\n",
      "Rakugaki Picasso\n",
      "Sayonara Freeway\n",
      "Rinkaku\n",
      "5.61\n",
      "Sakura Taisen: Kanadegumi\n",
      "Souhaku Shisuferia\n",
      "Tokyo Babylon: Vision\n",
      "Change Our Mirai!: Our 7 Lights\n",
      "It's Show Time!\n",
      "7-kakan.\n",
      "Densha Kamo Shirenai\n",
      "Hibi no Awa\n",
      "Mori no e\n",
      "5.60\n",
      "Spice Paradise: Curry Meshi Ver.\n",
      "Wishing\n",
      "Tanitsu Shikousei Overbloom\n",
      "Crystal Sea Ver. 69 (Kay Nakayama Remix)\n",
      "Endless Summer\n",
      "Escape from Tsuki no Uragawa Zoo\n",
      "For\n",
      "1989\n",
      "E no Umakatta Tomodachi\n",
      "5.58\n",
      "Love to Live By\n",
      "Pareo wa Emerald\n",
      "PoPo Loouise\n",
      "Mayonaka wa Junketsu\n",
      "Nanocore SP Lianxi Pian 2015 Xinnian Tebie Ban\n",
      "Portable Kuukou\n",
      "Bouei Honou / Evidence\n",
      "Cell no Koi\n",
      "5.57\n",
      "Days of Delight\n",
      "Dead End Street\n",
      "Alice in Voodooland\n",
      "Black'n White Jammin' Cats\n",
      "Dareka no Santa Claus\n",
      "Jigoku de Naze Warui\n",
      "Oosouji\n",
      "Sono Mukou no Mukougawa\n",
      "Super Speed\n",
      "Trust\n",
      "5.55\n",
      "Yuu no Mahou\n",
      "Ai think so,\n",
      "Love Will Find the Way Back Home\n",
      "Gift nor Art\n",
      "Kenka no Ato wa\n",
      "Minarai Chameleon\n",
      "Refrain\n",
      "5.54\n",
      "Time for Christmas\n",
      "Wonderland to Hitsuji no Uta\n",
      "Nebula feat. Hatsune Miku\n",
      "Shokichi Monogatari\n",
      "Yuki Matsuri\n",
      "EDEN\n",
      "Gravity\n",
      "Calihara no Uta\n",
      "Cluster A\n",
      "5.52\n",
      "Hoka Hoka Oden no Uta\n",
      "Love Like Aliens\n",
      "Stay the Same\n",
      "Watashi no Naka no Gensou-teki Sekaikan Oyobi Sono Kengen wo Souki Saseta Aru Genjitsu de no Dekigoto ni Kansuru Ichi Kousatsu\n",
      "Asa ga Kuru mae ni: Sasurai Version\n",
      "Hietsuki Bushi\n",
      "Ievan Polkka\n",
      "Kaze no Invitation\n",
      "Bad! Bad! Bad!\n",
      "5.50\n",
      "Brilliant Better\n",
      "I'm Here with You\n",
      "Kyuushigai\n",
      "Yasoukyoku\n",
      "Sora wa Koko ni Aru\n",
      "5.49\n",
      "Tsuki no Uta\n",
      "Xmas Song\n",
      "6♥Princess\n",
      "Agitation!\n",
      "B Who I Want 2 B\n",
      "Cat Step\n",
      "Chains & Rings\n",
      "Dokidoki Dream!!!\n",
      "BUCK-TICK x HAL\n",
      "Marine Bloomin'\n",
      "Message Song\n",
      "5.48\n",
      "Sagashimono\n",
      "Sajou no Yumekui Shoujo\n",
      "Seishun Midnight Runners: Shiosai\n",
      "Tsuugakuro\n",
      "Wanna Be a Tuna\n",
      "Winner\n",
      "Asayake to Nettaigyo\n",
      "B.O.Y.\n",
      "CP\n",
      "Dream C Club Pure Songs Clips\n",
      "Humanoid Girl\n",
      "5.47\n",
      "Heart Beat\n",
      "Hungry Zombie Francesca!!\n",
      "Itekoma Hits\n",
      "Midnight Run feat. Nana Furuya\n",
      "Mushi no Tameiki\n",
      "Onaka no Ookina Ouji-sama\n",
      "Pair\n",
      "Niedola\n",
      "Sousha wa Tada Senaka to Teikin de Kataru Nomi\n",
      "Tsukiyomi\n",
      "Waga Na wa Cowboy\n",
      "5.45\n",
      "Fire Me Up\n",
      "Grasshopper Monogatari\n",
      "6 Songs\n",
      "Kaisei\n",
      "One and Three Four\n",
      "Swan\n",
      "Watashi ga Nakou Hototogisu\n",
      "Yorugao\n",
      "makemagic\n",
      "Nanocore 2016 Xinnian Tebie Ban\n",
      "Ningyo no Hanashi\n",
      "Saishuu Densha featuring Izumi Makura\n",
      "Sayonara Space Shuttle\n",
      "5.43\n",
      "Tanu no Magical Holiday\n",
      "Yuu Kiri\n",
      "And And\n",
      "Hiyoko Gumo\n",
      "Hyper Sweet Power\n",
      "Juujika You and I\n",
      "Lost Forest\n",
      "Candle\n",
      "Detarame Rock & Roll Theory\n",
      "Hikenai Guitar wo Hikundaze\n",
      "Issei Kiyuukyoku: Divertimento\n",
      "Minihams no Kekkon Song\n",
      "Revenge of Green Mutant\n",
      "Scary\n",
      "Shiroi Michi\n",
      "Stars Colliding\n",
      "Sun Set Sun\n",
      "The Starry Night\n",
      "Yume wo Misete\n",
      "5.42\n",
      "Chiisana Kinomi (1995)\n",
      "Fen Qing\n",
      "Houkiboshi\n",
      "Jikkyou Chuukei\n",
      "Kaijuu\n",
      "Daruma-san ga Koronda\n",
      "Kokuen\n",
      "Krosna\n",
      "5.39\n",
      "\"Star\"t\n",
      "3-Nen C-Gumi 14-Ban Kubozono Chiyoko no Nyuukaku\n",
      "Car Radio\n",
      "Dekkai Totto March\n",
      "Ghana\n",
      "Christmas\n",
      "Kimi wa Tomodachi\n",
      "Minihams no Ai no Uta\n",
      "5.38\n",
      "Southpaw\n",
      "Muteki We Are One!!\n",
      "Usagi to Kame (Music)\n",
      "Wake Up! Dodo\n",
      "Balloon (Music)\n",
      "Circus\n",
      "Light Speed Days\n",
      "Clock Lock Works\n",
      "Fr/day Night\n",
      "Fuyu no Yoru no Ohanashi\n",
      "Jijii: Owari no Hajimari\n",
      "Minna e wo Check!\n",
      "5.36\n",
      "Sense Honma ni Honma\n",
      "TeNiOE\n",
      "Michi (2004)\n",
      "Prism\n",
      "R²: Rise R to the Second Power\n",
      "Tejime\n",
      "Dare no Tame ni Sakura wa Saku\n",
      "Haru Yasumi no Yoru\n",
      "Ichiendama no Tabigarasu\n",
      "Marine Dreamin'\n",
      "5.34\n",
      "Shooting Hero\n",
      "Tengu Desu\n",
      "Pa Para Papa\n",
      "Pi~hyara Kouta\n",
      "Sumiko no Egao\n",
      "Tenrankai de Atta Onnanoko\n"
     ]
    },
    {
     "name": "stdout",
     "output_type": "stream",
     "text": [
      "Ai Uta: Since 2007\n",
      "Akai Boushi\n",
      "Beat in Love\n",
      "Itsumademo Tabibito\n",
      "Amaryllis\n",
      "Bang Babang Bang!!!\n",
      "Bouken no Susume\n",
      "5.32\n",
      "Ok? Alright!\n",
      "Yamasuki, Yamazaki\n",
      "Yanoya\n",
      "Yubikiri\n",
      "Outsider:Requiem\n",
      "Uchuu no Uta\n",
      "Youki ni Utaeba\n",
      "Ake-Vono\n",
      "Asa wo Kitan\n",
      "5.30\n",
      "Crescendo Story\n",
      "It Seems like a Frog\n",
      "Wamono\n",
      "Wake Up\n",
      "Bokura no Hero\n",
      "Aishiteru (2010)\n",
      "Hizumu Realism\n",
      "Joki Joki Tailor\n",
      "Koisuru Niwatori\n",
      "5.28\n",
      "Tic Tac Dreamin'\n",
      "Zone: Intro\n",
      "Frogtoise\n",
      "Futago no Ookami Daibouken\n",
      "Hoshi Uranai Kirakira\n",
      "Irotoridori no Melody\n",
      "Akaoni to Aooni no Tango\n",
      "Attouteki Vivid Days\n",
      "Happy Hour\n",
      "Heya (Music)\n",
      "Mirakururun Grand Purin!\n",
      "Saboten ga Nikui\n",
      "5.26\n",
      "Mobile Dog House￥\n",
      "Spicy Swingy Style\n",
      "To Disappear\n",
      "Toute wa Sono Kotae\n",
      "Circles\n",
      "Hello Again, JoJo\n",
      "Koro wa Yane no Ue\n",
      "Koto no Shidai\n",
      "Donna Donna\n",
      "Kumo ga Haretara\n",
      "Marude Sekai\n",
      "Moushin Soloist Life!\n",
      "Qiezi Mabo Forever\n",
      "Yuki no Hi no Tayori\n",
      "5.23\n",
      "Anger\n",
      "Aoi Chou\n",
      "Christmas Morgue\n",
      "Kanashiki Mongoose\n",
      "Tonight\n",
      "5.21\n",
      "Watashi no Kamifuusen (1983)\n",
      "Eat You Up/Bunny\n",
      "Gene\n",
      "Hikaru Genji: Paradise Ginga\n",
      "HuGoo.n no Hug Hug Song\n",
      "Decadence: Remix\n",
      "Hone Hone Rock\n",
      "Kimi wa Sou Kimeta\n",
      "Psychedelic Afternoon\n",
      "Nosferatu\n",
      "Ofuro no Kazoe Uta\n",
      "Oshiri Tantei: Puputto Fumutto Kaiketsu Dance\n",
      "Otogi no Kuni no Birthday\n",
      "Roba Chotto Suneta\n",
      "5.19\n",
      "Very! Merry!! Session!!!\n",
      "Happy Weekend\n",
      "Henna ABC\n",
      "I'm Coming\n",
      "Kitakaze Kozou no Kantarou\n",
      "Answer\n",
      "Ascension from the Hell\n",
      "Fortissimo Bell\n",
      "Gakuen Handsome: Haitoku no Lesson\n",
      "I Want Nothing\n",
      "LolitA☆Strawberry in Summer\n",
      "Mama Gomennasai\n",
      "Poker\n",
      "Hikaru Genji: Taiyou ga Ippai\n",
      "5.17\n",
      "Kakumeiteki Broadway Shugisha Doumei\n",
      "Copy\n",
      "Lies, Lies.\n",
      "Nekko-kun\n",
      "Umo\n",
      "Neko Funjatta\n",
      "Orchestra\n",
      "Beachside Lover\n",
      "Jubilee\n",
      "Hane\n",
      "Insomniac\n",
      "5.14\n",
      "Metamorphosis\n",
      "Symphonic Variations\n",
      "Akai Jitensha\n",
      "Catalyst\n",
      "Goro-chan\n",
      "Dambo\n",
      "Mononoke Dance\n",
      "Polka Dot\n",
      "Spring Stranger\n",
      "Tanoshii Sansuu\n",
      "5.11\n",
      "Natsumi Step!\n",
      "Cup of Smoke\n",
      "Drive Car\n",
      "Riding the Storm\n",
      "Zoojazoo \"Watashi no Onaka\"\n",
      "Metropolitan Museum\n",
      "Pata Pata Mama\n",
      "Annie\n",
      "Crack\n",
      "Ice Fist\n",
      "5.08\n",
      "Seichou Rap\n",
      "Shiawase no Uta\n",
      "Sunny\n",
      "Yuuki Hitotsu wo Tomo ni Shite\n",
      "Wakuwaku♥Nukegake Daisakusen\n",
      "Aikodesho\n",
      "Cabbage UFO\n",
      "Kitte no Nai Okurimono\n",
      "Tripod Baby\n",
      "Urmă (Zanzou)\n",
      "Orangutan\n",
      "Parallel\n",
      "5.05\n",
      "Bucket no Ana\n",
      "Jitensha-hen\n",
      "Lina Poe Poe\n",
      "Nowhereland\n",
      "Samurai (2011)\n",
      "Tetopettenson\n",
      "Yume no Kakera\n",
      "Nagisa\n",
      "Ooi! Hanimaru\n",
      "Tousan no Tsukutta Uta\n",
      "Yamaguchi Sanchi no Tsutomu-kun\n",
      "Aotenjou no Clown\n",
      "Computer Obaachan\n",
      "Halved\n",
      "5.02\n",
      "Higenashi Gogejabaru\n",
      "Omoide no Album\n",
      "Cleaning Switch\n",
      "Can You See? I'm Sushi\n",
      "Go-hiki no Kobuta to Charleston\n",
      "Henna Ie!\n",
      "Juicy Jungle\n",
      "Mori no Kuma-san (2009)\n",
      "Youkai Shoujo\n",
      "Awate Tokoya\n",
      "Ishindenshin Shiyou\n",
      "Akuma no Organ\n",
      "Alluptoyou\n",
      "4.98\n",
      "Tough Boy\n",
      "Nana-iro Megane\n",
      "Cook no Polka\n",
      "Clarinet Kowashichatta\n",
      "Onami\n",
      "Ganso Banana no Tamashii\n",
      "Graduation\n",
      "4.94\n",
      "Arigatou Thank You\n",
      "Printer Rec Music\n",
      "Danbou to Reibou\n",
      "Il torero Camomillo\n",
      "Shangri-La (Music)\n",
      "Momotarou (Music)\n",
      "Cherry Blossom (Music)\n",
      "Humane\n",
      "Love\n",
      "4.90\n",
      "Raja Maharaja\n",
      "RoboCop\n",
      "Avignon no Hashi de\n",
      "Katte ni Shiyagatte\n",
      "9\n",
      "You Should See Me in a Crown\n",
      "Instant Music\n",
      "Kaijuu no Ballad\n",
      "Black Ocean\n",
      "Nothing's Gonna Change\n",
      "Oppai ga Ippai\n",
      "4.85\n",
      "Peaceful Times (F02) Petit Film\n",
      "Rule\n",
      "Survivor\n",
      "Wonder\n",
      "Ame no Bus Stop-hen\n",
      "Dracula no Uta\n",
      "Nou Nen feat. Utae\n",
      "Banana ga Suki\n",
      "2010\n",
      "4.80\n",
      "Sol\n",
      "Magical Music Train\n",
      "2002-nen Halmeoni Ondo\n",
      "Chimuchimucheri ChimChimCheree\n",
      "Quantum Leap\n",
      "Takoyaki Story\n",
      "Anata mo Robot ni Nareru feat. Kamome Jidou Gasshoudan\n",
      "Anime Mitai na\n",
      "Akisutozeneko\n",
      "Oshiri Kajiri Mushi\n",
      "Punpun Polka\n",
      "4.74\n",
      "123\n",
      "Many Mary\n",
      "24H\n",
      "Mogu Mogu\n",
      "Noisy Birth\n",
      "Ainone\n",
      "Banana Mura ni Ame ga Furu\n",
      "Dreaming Pupa: Yumemiru Bokura\n",
      "4.68\n",
      "Mr. Empty\n",
      "\"0\"\n",
      "Soccer\n",
      "Synchro Noise\n",
      "Jam\n",
      "Utsukushii\n",
      "A Play\n",
      "Natsu no Gero wa Fuyu no Sakana\n",
      "Yami no Purple Eye\n",
      "4.60\n",
      "Sign\n",
      "Hachiko↑Dance\n",
      "Shinsei Kamattechan\n",
      "Chuunen Punk\n",
      "44-hiki no Neko\n",
      "4.53\n",
      "a_caFe\n",
      "Aoi Heya\n",
      "Wakie Wakie\n",
      "Anygedybudybombom\n",
      "Oh Yoko!\n",
      "Cafe de Oni\n",
      "4.38\n",
      "Torikaekko Please\n",
      "3-D Heaven\n",
      "Aruite Mikka!\n",
      "Mahou no Hiroba\n",
      "Master Blaster\n",
      "2\n",
      "Henshin Gattai! 5 tsu no Atsuki Tamashii\n",
      "Tama Gura Abayo: Moki Yumokyu Superdeluxe\n",
      "4.18\n",
      "Agitated Screams of Maggots\n",
      "3.62\n",
      "3D Onara Gorou ga Dance Dance Dance!!\n",
      "Koumon-teki Juuku Ketsujiru Juke\n",
      "I Like It\n",
      "                                                    name score type  \\\n",
      "0                       Fullmetal Alchemist: Brotherhood  9.14   TV   \n",
      "1                                               Gintama°  9.08   TV   \n",
      "2                                            Steins;Gate  9.08   TV   \n",
      "3                     Shingeki no Kyojin Season 3 Part 2  9.07   TV   \n",
      "4                                               Gintama'  9.05   TV   \n",
      "...                                                  ...   ...  ...   \n",
      "11599                                    Hametsu no Mars  2.22  OVA   \n",
      "11600                                 Utsu Musume Sayuri  1.99  OVA   \n",
      "11601                       Tenkuu Danzai Skelter+Heaven  1.85  OVA   \n",
      "11602                         Mahou Shoujo Liese Prettia   NaN  ONA   \n",
      "11603  Mahou Shoujo? Naria☆Girls Nama de Anime wo Tsu...   NaN  ONA   \n",
      "\n",
      "                                                  genres    members  \\\n",
      "0      [Action, Adventure, Drama, Fantasy, Military, ...  2,893,173   \n",
      "1      [Action, Comedy, Sci-Fi, Gag Humor, Historical...    536,913   \n",
      "2      [Drama, Sci-Fi, Suspense, Psychological, Time ...  2,245,142   \n",
      "3      [Action, Drama, Gore, Military, Survival, Shou...  1,847,350   \n",
      "4      [Action, Comedy, Sci-Fi, Gag Humor, Historical...    473,330   \n",
      "...                                                  ...        ...   \n",
      "11599                                   [Horror, Sci-Fi]     62,634   \n",
      "11600                              [Avant Garde, Comedy]     19,201   \n",
      "11601                                    [Sci-Fi, Mecha]     34,311   \n",
      "11602                                     [Mahou Shoujo]        330   \n",
      "11603                             [Comedy, Mahou Shoujo]        629   \n",
      "\n",
      "       have_prequal prequal_score  is_original source_score  \\\n",
      "0                 0           NaN            0         9.06   \n",
      "1                 1          8.93            0         8.62   \n",
      "2                 0           NaN            0         8.04   \n",
      "3                 1          8.62            0         8.57   \n",
      "4                 1          8.95            0         8.62   \n",
      "...             ...           ...          ...          ...   \n",
      "11599             0           NaN            0          NaN   \n",
      "11600             0           NaN            1          NaN   \n",
      "11601             0           NaN            0          NaN   \n",
      "11602             0           NaN            1          NaN   \n",
      "11603             0           NaN            1          NaN   \n",
      "\n",
      "                      studio    premiered  \\\n",
      "0                      Bones  Spring 2009   \n",
      "1      Bandai Namco Pictures  Spring 2015   \n",
      "2                  White Fox  Spring 2011   \n",
      "3                 Wit Studio  Spring 2019   \n",
      "4                    Sunrise  Spring 2011   \n",
      "...                      ...          ...   \n",
      "11599              WAO World          NaN   \n",
      "11600                    NaN          NaN   \n",
      "11601                    NaN          NaN   \n",
      "11602                    NaN          NaN   \n",
      "11603                 Bouncy          NaN   \n",
      "\n",
      "                                                synopsis  \n",
      "0      After a horrific alchemy experiment goes wrong...  \n",
      "1      Gintoki, Shinpachi, and Kagura return as the f...  \n",
      "2      Eccentric scientist Rintarou Okabe has a never...  \n",
      "3      Seeking to restore humanity's diminishing hope...  \n",
      "4      After a one-year hiatus, Shinpachi Shimura ret...  \n",
      "...                                                  ...  \n",
      "11599  Several months after a probe returning from Ma...  \n",
      "11600  Sayuri is a curious creature who lives on her ...  \n",
      "11601  When a mysterious entity suddenly appears in t...  \n",
      "11602  The Japanese cosmetic brand Kao wants to add a...  \n",
      "11603  Urara, Hanabi, and Inaho are three girls who a...  \n",
      "\n",
      "[11604 rows x 12 columns]\n",
      "--- 128038.45239019394 seconds ---\n"
     ]
    }
   ],
   "source": [
    "start_time = time.time()\n",
    "df=crawler(\"https://myanimelist.net/topanime.php?limit=\")\n",
    "print(df)\n",
    "print(\"--- %s seconds ---\" % (time.time() - start_time))"
   ]
  },
  {
   "cell_type": "markdown",
   "id": "83b83e0f",
   "metadata": {},
   "source": [
    "Music type anime we didn't collect, we can see that as we start to scrap the lower score anime there was more music type anime. and after 35.5 hours! we finished and have all the data we need, now we will save the DataFrame as a CSV file"
   ]
  },
  {
   "cell_type": "code",
   "execution_count": 32,
   "id": "5f53f1b7",
   "metadata": {},
   "outputs": [],
   "source": [
    "df.to_csv('malDB1.csv')"
   ]
  },
  {
   "cell_type": "markdown",
   "id": "1c8f6470",
   "metadata": {},
   "source": [
    "# 3. Data handling"
   ]
  },
  {
   "cell_type": "code",
   "execution_count": 2,
   "id": "8b4966ef",
   "metadata": {},
   "outputs": [],
   "source": [
    "df=pd.read_csv(\"malDB1.csv\")"
   ]
  },
  {
   "cell_type": "code",
   "execution_count": 3,
   "id": "e1af500f",
   "metadata": {},
   "outputs": [
    {
     "data": {
      "text/html": [
       "<div>\n",
       "<style scoped>\n",
       "    .dataframe tbody tr th:only-of-type {\n",
       "        vertical-align: middle;\n",
       "    }\n",
       "\n",
       "    .dataframe tbody tr th {\n",
       "        vertical-align: top;\n",
       "    }\n",
       "\n",
       "    .dataframe thead th {\n",
       "        text-align: right;\n",
       "    }\n",
       "</style>\n",
       "<table border=\"1\" class=\"dataframe\">\n",
       "  <thead>\n",
       "    <tr style=\"text-align: right;\">\n",
       "      <th></th>\n",
       "      <th>Unnamed: 0</th>\n",
       "      <th>name</th>\n",
       "      <th>score</th>\n",
       "      <th>type</th>\n",
       "      <th>genres</th>\n",
       "      <th>members</th>\n",
       "      <th>have_prequal</th>\n",
       "      <th>prequal_score</th>\n",
       "      <th>is_original</th>\n",
       "      <th>source_score</th>\n",
       "      <th>studio</th>\n",
       "      <th>premiered</th>\n",
       "      <th>synopsis</th>\n",
       "    </tr>\n",
       "  </thead>\n",
       "  <tbody>\n",
       "    <tr>\n",
       "      <th>0</th>\n",
       "      <td>0</td>\n",
       "      <td>Fullmetal Alchemist: Brotherhood</td>\n",
       "      <td>9.14</td>\n",
       "      <td>TV</td>\n",
       "      <td>['Action', 'Adventure', 'Drama', 'Fantasy', 'M...</td>\n",
       "      <td>2,893,173</td>\n",
       "      <td>0</td>\n",
       "      <td>NaN</td>\n",
       "      <td>0</td>\n",
       "      <td>9.06</td>\n",
       "      <td>Bones</td>\n",
       "      <td>Spring 2009</td>\n",
       "      <td>After a horrific alchemy experiment goes wrong...</td>\n",
       "    </tr>\n",
       "    <tr>\n",
       "      <th>1</th>\n",
       "      <td>1</td>\n",
       "      <td>Gintama°</td>\n",
       "      <td>9.08</td>\n",
       "      <td>TV</td>\n",
       "      <td>['Action', 'Comedy', 'Sci-Fi', 'Gag Humor', 'H...</td>\n",
       "      <td>536,913</td>\n",
       "      <td>1</td>\n",
       "      <td>8.93</td>\n",
       "      <td>0</td>\n",
       "      <td>8.62</td>\n",
       "      <td>Bandai Namco Pictures</td>\n",
       "      <td>Spring 2015</td>\n",
       "      <td>Gintoki, Shinpachi, and Kagura return as the f...</td>\n",
       "    </tr>\n",
       "    <tr>\n",
       "      <th>2</th>\n",
       "      <td>2</td>\n",
       "      <td>Steins;Gate</td>\n",
       "      <td>9.08</td>\n",
       "      <td>TV</td>\n",
       "      <td>['Drama', 'Sci-Fi', 'Suspense', 'Psychological...</td>\n",
       "      <td>2,245,142</td>\n",
       "      <td>0</td>\n",
       "      <td>NaN</td>\n",
       "      <td>0</td>\n",
       "      <td>8.04</td>\n",
       "      <td>White Fox</td>\n",
       "      <td>Spring 2011</td>\n",
       "      <td>Eccentric scientist Rintarou Okabe has a never...</td>\n",
       "    </tr>\n",
       "    <tr>\n",
       "      <th>3</th>\n",
       "      <td>3</td>\n",
       "      <td>Shingeki no Kyojin Season 3 Part 2</td>\n",
       "      <td>9.07</td>\n",
       "      <td>TV</td>\n",
       "      <td>['Action', 'Drama', 'Gore', 'Military', 'Survi...</td>\n",
       "      <td>1,847,350</td>\n",
       "      <td>1</td>\n",
       "      <td>8.62</td>\n",
       "      <td>0</td>\n",
       "      <td>8.57</td>\n",
       "      <td>Wit Studio</td>\n",
       "      <td>Spring 2019</td>\n",
       "      <td>Seeking to restore humanity's diminishing hope...</td>\n",
       "    </tr>\n",
       "    <tr>\n",
       "      <th>4</th>\n",
       "      <td>4</td>\n",
       "      <td>Gintama'</td>\n",
       "      <td>9.05</td>\n",
       "      <td>TV</td>\n",
       "      <td>['Action', 'Comedy', 'Sci-Fi', 'Gag Humor', 'H...</td>\n",
       "      <td>473,330</td>\n",
       "      <td>1</td>\n",
       "      <td>8.95</td>\n",
       "      <td>0</td>\n",
       "      <td>8.62</td>\n",
       "      <td>Sunrise</td>\n",
       "      <td>Spring 2011</td>\n",
       "      <td>After a one-year hiatus, Shinpachi Shimura ret...</td>\n",
       "    </tr>\n",
       "  </tbody>\n",
       "</table>\n",
       "</div>"
      ],
      "text/plain": [
       "   Unnamed: 0                                name  score type  \\\n",
       "0           0    Fullmetal Alchemist: Brotherhood   9.14   TV   \n",
       "1           1                            Gintama°   9.08   TV   \n",
       "2           2                         Steins;Gate   9.08   TV   \n",
       "3           3  Shingeki no Kyojin Season 3 Part 2   9.07   TV   \n",
       "4           4                            Gintama'   9.05   TV   \n",
       "\n",
       "                                              genres    members  have_prequal  \\\n",
       "0  ['Action', 'Adventure', 'Drama', 'Fantasy', 'M...  2,893,173             0   \n",
       "1  ['Action', 'Comedy', 'Sci-Fi', 'Gag Humor', 'H...    536,913             1   \n",
       "2  ['Drama', 'Sci-Fi', 'Suspense', 'Psychological...  2,245,142             0   \n",
       "3  ['Action', 'Drama', 'Gore', 'Military', 'Survi...  1,847,350             1   \n",
       "4  ['Action', 'Comedy', 'Sci-Fi', 'Gag Humor', 'H...    473,330             1   \n",
       "\n",
       "   prequal_score  is_original  source_score                 studio  \\\n",
       "0            NaN            0          9.06                  Bones   \n",
       "1           8.93            0          8.62  Bandai Namco Pictures   \n",
       "2            NaN            0          8.04              White Fox   \n",
       "3           8.62            0          8.57             Wit Studio   \n",
       "4           8.95            0          8.62                Sunrise   \n",
       "\n",
       "     premiered                                           synopsis  \n",
       "0  Spring 2009  After a horrific alchemy experiment goes wrong...  \n",
       "1  Spring 2015  Gintoki, Shinpachi, and Kagura return as the f...  \n",
       "2  Spring 2011  Eccentric scientist Rintarou Okabe has a never...  \n",
       "3  Spring 2019  Seeking to restore humanity's diminishing hope...  \n",
       "4  Spring 2011  After a one-year hiatus, Shinpachi Shimura ret...  "
      ]
     },
     "execution_count": 3,
     "metadata": {},
     "output_type": "execute_result"
    }
   ],
   "source": [
    "df.head()"
   ]
  },
  {
   "cell_type": "code",
   "execution_count": 4,
   "id": "c74d93e9",
   "metadata": {},
   "outputs": [
    {
     "data": {
      "text/html": [
       "<div>\n",
       "<style scoped>\n",
       "    .dataframe tbody tr th:only-of-type {\n",
       "        vertical-align: middle;\n",
       "    }\n",
       "\n",
       "    .dataframe tbody tr th {\n",
       "        vertical-align: top;\n",
       "    }\n",
       "\n",
       "    .dataframe thead th {\n",
       "        text-align: right;\n",
       "    }\n",
       "</style>\n",
       "<table border=\"1\" class=\"dataframe\">\n",
       "  <thead>\n",
       "    <tr style=\"text-align: right;\">\n",
       "      <th></th>\n",
       "      <th>Unnamed: 0</th>\n",
       "      <th>name</th>\n",
       "      <th>score</th>\n",
       "      <th>type</th>\n",
       "      <th>genres</th>\n",
       "      <th>members</th>\n",
       "      <th>have_prequal</th>\n",
       "      <th>prequal_score</th>\n",
       "      <th>is_original</th>\n",
       "      <th>source_score</th>\n",
       "      <th>studio</th>\n",
       "      <th>premiered</th>\n",
       "      <th>synopsis</th>\n",
       "    </tr>\n",
       "  </thead>\n",
       "  <tbody>\n",
       "    <tr>\n",
       "      <th>count</th>\n",
       "      <td>11604.000000</td>\n",
       "      <td>11604</td>\n",
       "      <td>11602.000000</td>\n",
       "      <td>11604</td>\n",
       "      <td>11604</td>\n",
       "      <td>11604</td>\n",
       "      <td>11604.000000</td>\n",
       "      <td>2435.000000</td>\n",
       "      <td>11604.000000</td>\n",
       "      <td>2978.000000</td>\n",
       "      <td>9430</td>\n",
       "      <td>4139</td>\n",
       "      <td>11602</td>\n",
       "    </tr>\n",
       "    <tr>\n",
       "      <th>unique</th>\n",
       "      <td>NaN</td>\n",
       "      <td>11603</td>\n",
       "      <td>NaN</td>\n",
       "      <td>5</td>\n",
       "      <td>4188</td>\n",
       "      <td>8951</td>\n",
       "      <td>NaN</td>\n",
       "      <td>NaN</td>\n",
       "      <td>NaN</td>\n",
       "      <td>NaN</td>\n",
       "      <td>578</td>\n",
       "      <td>227</td>\n",
       "      <td>11231</td>\n",
       "    </tr>\n",
       "    <tr>\n",
       "      <th>top</th>\n",
       "      <td>NaN</td>\n",
       "      <td>Zuihou de Zhaohuan Shi</td>\n",
       "      <td>NaN</td>\n",
       "      <td>TV</td>\n",
       "      <td>['Comedy']</td>\n",
       "      <td>338</td>\n",
       "      <td>NaN</td>\n",
       "      <td>NaN</td>\n",
       "      <td>NaN</td>\n",
       "      <td>NaN</td>\n",
       "      <td>Toei Animation</td>\n",
       "      <td>Fall 2016</td>\n",
       "      <td>No synopsis information has been added to this...</td>\n",
       "    </tr>\n",
       "    <tr>\n",
       "      <th>freq</th>\n",
       "      <td>NaN</td>\n",
       "      <td>2</td>\n",
       "      <td>NaN</td>\n",
       "      <td>4165</td>\n",
       "      <td>396</td>\n",
       "      <td>11</td>\n",
       "      <td>NaN</td>\n",
       "      <td>NaN</td>\n",
       "      <td>NaN</td>\n",
       "      <td>NaN</td>\n",
       "      <td>656</td>\n",
       "      <td>69</td>\n",
       "      <td>200</td>\n",
       "    </tr>\n",
       "    <tr>\n",
       "      <th>mean</th>\n",
       "      <td>5801.500000</td>\n",
       "      <td>NaN</td>\n",
       "      <td>6.548440</td>\n",
       "      <td>NaN</td>\n",
       "      <td>NaN</td>\n",
       "      <td>NaN</td>\n",
       "      <td>0.212254</td>\n",
       "      <td>7.028197</td>\n",
       "      <td>0.272492</td>\n",
       "      <td>7.616921</td>\n",
       "      <td>NaN</td>\n",
       "      <td>NaN</td>\n",
       "      <td>NaN</td>\n",
       "    </tr>\n",
       "    <tr>\n",
       "      <th>std</th>\n",
       "      <td>3349.930596</td>\n",
       "      <td>NaN</td>\n",
       "      <td>0.906053</td>\n",
       "      <td>NaN</td>\n",
       "      <td>NaN</td>\n",
       "      <td>NaN</td>\n",
       "      <td>0.408922</td>\n",
       "      <td>0.811126</td>\n",
       "      <td>0.445261</td>\n",
       "      <td>0.621896</td>\n",
       "      <td>NaN</td>\n",
       "      <td>NaN</td>\n",
       "      <td>NaN</td>\n",
       "    </tr>\n",
       "    <tr>\n",
       "      <th>min</th>\n",
       "      <td>0.000000</td>\n",
       "      <td>NaN</td>\n",
       "      <td>1.850000</td>\n",
       "      <td>NaN</td>\n",
       "      <td>NaN</td>\n",
       "      <td>NaN</td>\n",
       "      <td>0.000000</td>\n",
       "      <td>3.130000</td>\n",
       "      <td>0.000000</td>\n",
       "      <td>5.390000</td>\n",
       "      <td>NaN</td>\n",
       "      <td>NaN</td>\n",
       "      <td>NaN</td>\n",
       "    </tr>\n",
       "    <tr>\n",
       "      <th>25%</th>\n",
       "      <td>2900.750000</td>\n",
       "      <td>NaN</td>\n",
       "      <td>5.970000</td>\n",
       "      <td>NaN</td>\n",
       "      <td>NaN</td>\n",
       "      <td>NaN</td>\n",
       "      <td>0.000000</td>\n",
       "      <td>6.510000</td>\n",
       "      <td>0.000000</td>\n",
       "      <td>7.170000</td>\n",
       "      <td>NaN</td>\n",
       "      <td>NaN</td>\n",
       "      <td>NaN</td>\n",
       "    </tr>\n",
       "    <tr>\n",
       "      <th>50%</th>\n",
       "      <td>5801.500000</td>\n",
       "      <td>NaN</td>\n",
       "      <td>6.560000</td>\n",
       "      <td>NaN</td>\n",
       "      <td>NaN</td>\n",
       "      <td>NaN</td>\n",
       "      <td>0.000000</td>\n",
       "      <td>7.090000</td>\n",
       "      <td>0.000000</td>\n",
       "      <td>7.600000</td>\n",
       "      <td>NaN</td>\n",
       "      <td>NaN</td>\n",
       "      <td>NaN</td>\n",
       "    </tr>\n",
       "    <tr>\n",
       "      <th>75%</th>\n",
       "      <td>8702.250000</td>\n",
       "      <td>NaN</td>\n",
       "      <td>7.200000</td>\n",
       "      <td>NaN</td>\n",
       "      <td>NaN</td>\n",
       "      <td>NaN</td>\n",
       "      <td>0.000000</td>\n",
       "      <td>7.580000</td>\n",
       "      <td>1.000000</td>\n",
       "      <td>8.080000</td>\n",
       "      <td>NaN</td>\n",
       "      <td>NaN</td>\n",
       "      <td>NaN</td>\n",
       "    </tr>\n",
       "    <tr>\n",
       "      <th>max</th>\n",
       "      <td>11603.000000</td>\n",
       "      <td>NaN</td>\n",
       "      <td>9.140000</td>\n",
       "      <td>NaN</td>\n",
       "      <td>NaN</td>\n",
       "      <td>NaN</td>\n",
       "      <td>1.000000</td>\n",
       "      <td>9.080000</td>\n",
       "      <td>1.000000</td>\n",
       "      <td>9.450000</td>\n",
       "      <td>NaN</td>\n",
       "      <td>NaN</td>\n",
       "      <td>NaN</td>\n",
       "    </tr>\n",
       "  </tbody>\n",
       "</table>\n",
       "</div>"
      ],
      "text/plain": [
       "          Unnamed: 0                    name         score   type      genres  \\\n",
       "count   11604.000000                   11604  11602.000000  11604       11604   \n",
       "unique           NaN                   11603           NaN      5        4188   \n",
       "top              NaN  Zuihou de Zhaohuan Shi           NaN     TV  ['Comedy']   \n",
       "freq             NaN                       2           NaN   4165         396   \n",
       "mean     5801.500000                     NaN      6.548440    NaN         NaN   \n",
       "std      3349.930596                     NaN      0.906053    NaN         NaN   \n",
       "min         0.000000                     NaN      1.850000    NaN         NaN   \n",
       "25%      2900.750000                     NaN      5.970000    NaN         NaN   \n",
       "50%      5801.500000                     NaN      6.560000    NaN         NaN   \n",
       "75%      8702.250000                     NaN      7.200000    NaN         NaN   \n",
       "max     11603.000000                     NaN      9.140000    NaN         NaN   \n",
       "\n",
       "       members  have_prequal  prequal_score   is_original  source_score  \\\n",
       "count    11604  11604.000000    2435.000000  11604.000000   2978.000000   \n",
       "unique    8951           NaN            NaN           NaN           NaN   \n",
       "top        338           NaN            NaN           NaN           NaN   \n",
       "freq        11           NaN            NaN           NaN           NaN   \n",
       "mean       NaN      0.212254       7.028197      0.272492      7.616921   \n",
       "std        NaN      0.408922       0.811126      0.445261      0.621896   \n",
       "min        NaN      0.000000       3.130000      0.000000      5.390000   \n",
       "25%        NaN      0.000000       6.510000      0.000000      7.170000   \n",
       "50%        NaN      0.000000       7.090000      0.000000      7.600000   \n",
       "75%        NaN      0.000000       7.580000      1.000000      8.080000   \n",
       "max        NaN      1.000000       9.080000      1.000000      9.450000   \n",
       "\n",
       "                studio  premiered  \\\n",
       "count             9430       4139   \n",
       "unique             578        227   \n",
       "top     Toei Animation  Fall 2016   \n",
       "freq               656         69   \n",
       "mean               NaN        NaN   \n",
       "std                NaN        NaN   \n",
       "min                NaN        NaN   \n",
       "25%                NaN        NaN   \n",
       "50%                NaN        NaN   \n",
       "75%                NaN        NaN   \n",
       "max                NaN        NaN   \n",
       "\n",
       "                                                 synopsis  \n",
       "count                                               11602  \n",
       "unique                                              11231  \n",
       "top     No synopsis information has been added to this...  \n",
       "freq                                                  200  \n",
       "mean                                                  NaN  \n",
       "std                                                   NaN  \n",
       "min                                                   NaN  \n",
       "25%                                                   NaN  \n",
       "50%                                                   NaN  \n",
       "75%                                                   NaN  \n",
       "max                                                   NaN  "
      ]
     },
     "execution_count": 4,
     "metadata": {},
     "output_type": "execute_result"
    }
   ],
   "source": [
    "df.describe(include=\"all\")"
   ]
  },
  {
   "cell_type": "code",
   "execution_count": 5,
   "id": "15149317",
   "metadata": {},
   "outputs": [
    {
     "name": "stdout",
     "output_type": "stream",
     "text": [
      "<class 'pandas.core.frame.DataFrame'>\n",
      "RangeIndex: 11604 entries, 0 to 11603\n",
      "Data columns (total 13 columns):\n",
      " #   Column         Non-Null Count  Dtype  \n",
      "---  ------         --------------  -----  \n",
      " 0   Unnamed: 0     11604 non-null  int64  \n",
      " 1   name           11604 non-null  object \n",
      " 2   score          11602 non-null  float64\n",
      " 3   type           11604 non-null  object \n",
      " 4   genres         11604 non-null  object \n",
      " 5   members        11604 non-null  object \n",
      " 6   have_prequal   11604 non-null  int64  \n",
      " 7   prequal_score  2435 non-null   float64\n",
      " 8   is_original    11604 non-null  int64  \n",
      " 9   source_score   2978 non-null   float64\n",
      " 10  studio         9430 non-null   object \n",
      " 11  premiered      4139 non-null   object \n",
      " 12  synopsis       11602 non-null  object \n",
      "dtypes: float64(3), int64(3), object(7)\n",
      "memory usage: 1.2+ MB\n"
     ]
    }
   ],
   "source": [
    "df.info()"
   ]
  },
  {
   "cell_type": "markdown",
   "id": "8fd0d34c",
   "metadata": {},
   "source": [
    "Let's check the null value in our DataFrame."
   ]
  },
  {
   "cell_type": "code",
   "execution_count": 6,
   "id": "ae665acc",
   "metadata": {},
   "outputs": [
    {
     "data": {
      "text/plain": [
       "Unnamed: 0          0\n",
       "name                0\n",
       "score               2\n",
       "type                0\n",
       "genres              0\n",
       "members             0\n",
       "have_prequal        0\n",
       "prequal_score    9169\n",
       "is_original         0\n",
       "source_score     8626\n",
       "studio           2174\n",
       "premiered        7465\n",
       "synopsis            2\n",
       "dtype: int64"
      ]
     },
     "execution_count": 6,
     "metadata": {},
     "output_type": "execute_result"
    }
   ],
   "source": [
    "df.isnull().sum()"
   ]
  },
  {
   "cell_type": "markdown",
   "id": "c2c9aacd",
   "metadata": {},
   "source": [
    "There are two animes without scores sneaked in, let's remove them."
   ]
  },
  {
   "cell_type": "code",
   "execution_count": 7,
   "id": "45485b0c",
   "metadata": {},
   "outputs": [
    {
     "name": "stdout",
     "output_type": "stream",
     "text": [
      "(11604, 13)\n",
      "(11602, 13)\n"
     ]
    }
   ],
   "source": [
    "df_clean=df.copy()\n",
    "print(df_clean.shape)\n",
    "df_clean.dropna(subset=[\"score\"], inplace=True)\n",
    "print(df_clean.shape)"
   ]
  },
  {
   "cell_type": "markdown",
   "id": "09016ffd",
   "metadata": {},
   "source": [
    "Let's remove also the animes without a synopsis"
   ]
  },
  {
   "cell_type": "code",
   "execution_count": 8,
   "id": "c0d277d0",
   "metadata": {},
   "outputs": [
    {
     "name": "stdout",
     "output_type": "stream",
     "text": [
      "(11602, 13)\n",
      "(11600, 13)\n"
     ]
    }
   ],
   "source": [
    "print(df_clean.shape)\n",
    "df_clean.dropna(subset=[\"synopsis\"], inplace=True)\n",
    "print(df_clean.shape)"
   ]
  },
  {
   "cell_type": "markdown",
   "id": "c0787be4",
   "metadata": {},
   "source": [
    "I have decided to drop the \"premiered\" column as it's mostly empty and also the \"Unnamed: 0\" which I don't know what created it."
   ]
  },
  {
   "cell_type": "code",
   "execution_count": 9,
   "id": "d2a2314a",
   "metadata": {},
   "outputs": [
    {
     "name": "stdout",
     "output_type": "stream",
     "text": [
      "(11600, 13)\n",
      "(11600, 11)\n"
     ]
    }
   ],
   "source": [
    "print(df_clean.shape)\n",
    "df_clean.drop(columns=['Unnamed: 0','premiered'], inplace=True)\n",
    "print(df_clean.shape)"
   ]
  },
  {
   "cell_type": "markdown",
   "id": "6ba2e87f",
   "metadata": {},
   "source": [
    "let's check for duplicates."
   ]
  },
  {
   "cell_type": "code",
   "execution_count": 10,
   "id": "e29c838b",
   "metadata": {},
   "outputs": [
    {
     "data": {
      "text/html": [
       "<div>\n",
       "<style scoped>\n",
       "    .dataframe tbody tr th:only-of-type {\n",
       "        vertical-align: middle;\n",
       "    }\n",
       "\n",
       "    .dataframe tbody tr th {\n",
       "        vertical-align: top;\n",
       "    }\n",
       "\n",
       "    .dataframe thead th {\n",
       "        text-align: right;\n",
       "    }\n",
       "</style>\n",
       "<table border=\"1\" class=\"dataframe\">\n",
       "  <thead>\n",
       "    <tr style=\"text-align: right;\">\n",
       "      <th></th>\n",
       "      <th>name</th>\n",
       "      <th>score</th>\n",
       "      <th>type</th>\n",
       "      <th>genres</th>\n",
       "      <th>members</th>\n",
       "      <th>have_prequal</th>\n",
       "      <th>prequal_score</th>\n",
       "      <th>is_original</th>\n",
       "      <th>source_score</th>\n",
       "      <th>studio</th>\n",
       "      <th>synopsis</th>\n",
       "    </tr>\n",
       "  </thead>\n",
       "  <tbody>\n",
       "    <tr>\n",
       "      <th>5261</th>\n",
       "      <td>Zuihou de Zhaohuan Shi</td>\n",
       "      <td>6.67</td>\n",
       "      <td>ONA</td>\n",
       "      <td>['Action', 'Adventure', 'Drama', 'Fantasy', 'H...</td>\n",
       "      <td>21,584</td>\n",
       "      <td>0</td>\n",
       "      <td>NaN</td>\n",
       "      <td>0</td>\n",
       "      <td>NaN</td>\n",
       "      <td>ASK Animation Studio</td>\n",
       "      <td>A talented young cook's encounter with a hungr...</td>\n",
       "    </tr>\n",
       "  </tbody>\n",
       "</table>\n",
       "</div>"
      ],
      "text/plain": [
       "                        name  score type  \\\n",
       "5261  Zuihou de Zhaohuan Shi   6.67  ONA   \n",
       "\n",
       "                                                 genres members  have_prequal  \\\n",
       "5261  ['Action', 'Adventure', 'Drama', 'Fantasy', 'H...  21,584             0   \n",
       "\n",
       "      prequal_score  is_original  source_score                studio  \\\n",
       "5261            NaN            0           NaN  ASK Animation Studio   \n",
       "\n",
       "                                               synopsis  \n",
       "5261  A talented young cook's encounter with a hungr...  "
      ]
     },
     "execution_count": 10,
     "metadata": {},
     "output_type": "execute_result"
    }
   ],
   "source": [
    "df_clean[df_clean['name'].duplicated() == True]"
   ]
  },
  {
   "cell_type": "markdown",
   "id": "c663f10a",
   "metadata": {},
   "source": [
    "We found one let's drop him."
   ]
  },
  {
   "cell_type": "code",
   "execution_count": 11,
   "id": "23d340f2",
   "metadata": {},
   "outputs": [
    {
     "name": "stdout",
     "output_type": "stream",
     "text": [
      "(11600, 11)\n",
      "(11599, 11)\n"
     ]
    }
   ],
   "source": [
    "print(df_clean.shape)\n",
    "df_clean.drop_duplicates(subset=[\"name\"], inplace=True)\n",
    "print(df_clean.shape)"
   ]
  },
  {
   "cell_type": "markdown",
   "id": "0ba79c4f",
   "metadata": {},
   "source": [
    "We can see there are 2462 animes without a prequel and from them, only 28 don't have a score so let's delete them."
   ]
  },
  {
   "cell_type": "code",
   "execution_count": 12,
   "id": "31985452",
   "metadata": {},
   "outputs": [
    {
     "data": {
      "text/plain": [
       "0    9137\n",
       "1    2462\n",
       "Name: have_prequal, dtype: int64"
      ]
     },
     "execution_count": 12,
     "metadata": {},
     "output_type": "execute_result"
    }
   ],
   "source": [
    "df_clean[\"have_prequal\"].value_counts()"
   ]
  },
  {
   "cell_type": "code",
   "execution_count": 13,
   "id": "4e8c58da",
   "metadata": {},
   "outputs": [
    {
     "data": {
      "text/plain": [
       "prequal_score    28\n",
       "dtype: int64"
      ]
     },
     "execution_count": 13,
     "metadata": {},
     "output_type": "execute_result"
    }
   ],
   "source": [
    "df_clean.loc[df_clean[\"have_prequal\"]==1,['prequal_score']].isna().sum()"
   ]
  },
  {
   "cell_type": "code",
   "execution_count": 14,
   "id": "3b836dab",
   "metadata": {},
   "outputs": [
    {
     "data": {
      "text/plain": [
       "nan"
      ]
     },
     "execution_count": 14,
     "metadata": {},
     "output_type": "execute_result"
    }
   ],
   "source": [
    "df_clean.iloc[561,6]"
   ]
  },
  {
   "cell_type": "code",
   "execution_count": 15,
   "id": "74eca577",
   "metadata": {},
   "outputs": [
    {
     "name": "stdout",
     "output_type": "stream",
     "text": [
      "(11599, 11)\n",
      "(11571, 11)\n"
     ]
    }
   ],
   "source": [
    "to_del=df_clean.index[(df_clean[\"have_prequal\"]==1 )& (df_clean[\"prequal_score\"].isna())].tolist() #list with indexes to delete\n",
    "print(df_clean.shape)\n",
    "df_clean.drop(index=to_del,inplace=True)\n",
    "df_clean.prequal_score.fillna(value=0,inplace=True)\n",
    "print(df_clean.shape)"
   ]
  },
  {
   "cell_type": "markdown",
   "id": "9c10ede4",
   "metadata": {},
   "source": [
    "we deleted the unwanted animes and to the rest, we inserted 0 as a value."
   ]
  },
  {
   "cell_type": "code",
   "execution_count": 16,
   "id": "1e4ea136",
   "metadata": {},
   "outputs": [
    {
     "data": {
      "text/plain": [
       "prequal_score    0\n",
       "dtype: int64"
      ]
     },
     "execution_count": 16,
     "metadata": {},
     "output_type": "execute_result"
    }
   ],
   "source": [
    "df_clean.loc[df_clean[\"have_prequal\"]==1,['prequal_score']].isna().sum()"
   ]
  },
  {
   "cell_type": "code",
   "execution_count": 17,
   "id": "f014d6dc",
   "metadata": {},
   "outputs": [
    {
     "name": "stdout",
     "output_type": "stream",
     "text": [
      "<class 'pandas.core.frame.DataFrame'>\n",
      "Int64Index: 11571 entries, 0 to 11601\n",
      "Data columns (total 11 columns):\n",
      " #   Column         Non-Null Count  Dtype  \n",
      "---  ------         --------------  -----  \n",
      " 0   name           11571 non-null  object \n",
      " 1   score          11571 non-null  float64\n",
      " 2   type           11571 non-null  object \n",
      " 3   genres         11571 non-null  object \n",
      " 4   members        11571 non-null  object \n",
      " 5   have_prequal   11571 non-null  int64  \n",
      " 6   prequal_score  11571 non-null  float64\n",
      " 7   is_original    11571 non-null  int64  \n",
      " 8   source_score   2978 non-null   float64\n",
      " 9   studio         9408 non-null   object \n",
      " 10  synopsis       11571 non-null  object \n",
      "dtypes: float64(3), int64(2), object(6)\n",
      "memory usage: 1.1+ MB\n"
     ]
    }
   ],
   "source": [
    "df_clean.info()"
   ]
  },
  {
   "cell_type": "markdown",
   "id": "edb095eb",
   "metadata": {},
   "source": [
    "a problem I encounter is there are 8417 animes not original but only 2978 of them have a score for the source"
   ]
  },
  {
   "cell_type": "code",
   "execution_count": 18,
   "id": "e5c31ac4",
   "metadata": {},
   "outputs": [
    {
     "data": {
      "text/plain": [
       "0    8417\n",
       "1    3154\n",
       "Name: is_original, dtype: int64"
      ]
     },
     "execution_count": 18,
     "metadata": {},
     "output_type": "execute_result"
    }
   ],
   "source": [
    "df_clean[\"is_original\"].value_counts()"
   ]
  },
  {
   "cell_type": "code",
   "execution_count": 19,
   "id": "ecb5ecfd",
   "metadata": {},
   "outputs": [
    {
     "data": {
      "text/html": [
       "<div>\n",
       "<style scoped>\n",
       "    .dataframe tbody tr th:only-of-type {\n",
       "        vertical-align: middle;\n",
       "    }\n",
       "\n",
       "    .dataframe tbody tr th {\n",
       "        vertical-align: top;\n",
       "    }\n",
       "\n",
       "    .dataframe thead th {\n",
       "        text-align: right;\n",
       "    }\n",
       "</style>\n",
       "<table border=\"1\" class=\"dataframe\">\n",
       "  <thead>\n",
       "    <tr style=\"text-align: right;\">\n",
       "      <th></th>\n",
       "      <th>source_score</th>\n",
       "    </tr>\n",
       "  </thead>\n",
       "  <tbody>\n",
       "    <tr>\n",
       "      <th>0</th>\n",
       "      <td>9.06</td>\n",
       "    </tr>\n",
       "    <tr>\n",
       "      <th>1</th>\n",
       "      <td>8.62</td>\n",
       "    </tr>\n",
       "    <tr>\n",
       "      <th>2</th>\n",
       "      <td>8.04</td>\n",
       "    </tr>\n",
       "    <tr>\n",
       "      <th>3</th>\n",
       "      <td>8.57</td>\n",
       "    </tr>\n",
       "    <tr>\n",
       "      <th>4</th>\n",
       "      <td>8.62</td>\n",
       "    </tr>\n",
       "    <tr>\n",
       "      <th>...</th>\n",
       "      <td>...</td>\n",
       "    </tr>\n",
       "    <tr>\n",
       "      <th>11587</th>\n",
       "      <td>NaN</td>\n",
       "    </tr>\n",
       "    <tr>\n",
       "      <th>11590</th>\n",
       "      <td>6.52</td>\n",
       "    </tr>\n",
       "    <tr>\n",
       "      <th>11591</th>\n",
       "      <td>NaN</td>\n",
       "    </tr>\n",
       "    <tr>\n",
       "      <th>11599</th>\n",
       "      <td>NaN</td>\n",
       "    </tr>\n",
       "    <tr>\n",
       "      <th>11601</th>\n",
       "      <td>NaN</td>\n",
       "    </tr>\n",
       "  </tbody>\n",
       "</table>\n",
       "<p>8417 rows × 1 columns</p>\n",
       "</div>"
      ],
      "text/plain": [
       "       source_score\n",
       "0              9.06\n",
       "1              8.62\n",
       "2              8.04\n",
       "3              8.57\n",
       "4              8.62\n",
       "...             ...\n",
       "11587           NaN\n",
       "11590          6.52\n",
       "11591           NaN\n",
       "11599           NaN\n",
       "11601           NaN\n",
       "\n",
       "[8417 rows x 1 columns]"
      ]
     },
     "execution_count": 19,
     "metadata": {},
     "output_type": "execute_result"
    }
   ],
   "source": [
    "df_clean.loc[df_clean[\"is_original\"]==0,['source_score']]"
   ]
  },
  {
   "cell_type": "markdown",
   "id": "c224bfeb",
   "metadata": {},
   "source": [
    "As we can see in the line plot the scores are on a slow downward trend and it looks like in the end there is a bunch of missing scores."
   ]
  },
  {
   "cell_type": "code",
   "execution_count": 20,
   "id": "711e4bf5",
   "metadata": {},
   "outputs": [
    {
     "data": {
      "text/plain": [
       "<AxesSubplot:>"
      ]
     },
     "execution_count": 20,
     "metadata": {},
     "output_type": "execute_result"
    },
    {
     "data": {
      "image/png": "[encoded data removed]",
      "text/plain": [
       "<Figure size 432x288 with 1 Axes>"
      ]
     },
     "metadata": {
      "needs_background": "light"
     },
     "output_type": "display_data"
    }
   ],
   "source": [
    "df_clean.loc[df_clean[\"is_original\"]==0,['source_score']].plot()"
   ]
  },
  {
   "cell_type": "code",
   "execution_count": 21,
   "id": "19b0e3ef",
   "metadata": {},
   "outputs": [
    {
     "data": {
      "text/plain": [
       "source_score    5439\n",
       "dtype: int64"
      ]
     },
     "execution_count": 21,
     "metadata": {},
     "output_type": "execute_result"
    }
   ],
   "source": [
    "df_clean.loc[df_clean[\"is_original\"]==0,['source_score']].isna().sum()"
   ]
  },
  {
   "cell_type": "markdown",
   "id": "cc7e0c12",
   "metadata": {},
   "source": [
    "I have decided to use the interpolate function to fill the missing scores,  interpolate allows me to keep the downward trend that we have seen in the line plot"
   ]
  },
  {
   "cell_type": "code",
   "execution_count": 22,
   "id": "6e23d58d",
   "metadata": {},
   "outputs": [],
   "source": [
    "df_clean.loc[df_clean[\"is_original\"]==0,['source_score']]=df_clean.loc[df_clean[\"is_original\"]==0,['source_score']].interpolate()"
   ]
  },
  {
   "cell_type": "code",
   "execution_count": 23,
   "id": "d55e5723",
   "metadata": {},
   "outputs": [
    {
     "data": {
      "text/plain": [
       "<AxesSubplot:>"
      ]
     },
     "execution_count": 23,
     "metadata": {},
     "output_type": "execute_result"
    },
    {
     "data": {
      "image/png": "[encoded data removed]",
      "text/plain": [
       "<Figure size 432x288 with 1 Axes>"
      ]
     },
     "metadata": {
      "needs_background": "light"
     },
     "output_type": "display_data"
    }
   ],
   "source": [
    "df_clean.loc[df_clean[\"is_original\"]==0,['source_score']].plot()"
   ]
  },
  {
   "cell_type": "markdown",
   "id": "df88c002",
   "metadata": {},
   "source": [
    "looks good for me"
   ]
  },
  {
   "cell_type": "code",
   "execution_count": 24,
   "id": "6897d46d",
   "metadata": {},
   "outputs": [
    {
     "data": {
      "text/plain": [
       "source_score    0\n",
       "dtype: int64"
      ]
     },
     "execution_count": 24,
     "metadata": {},
     "output_type": "execute_result"
    }
   ],
   "source": [
    "df_clean.loc[df_clean[\"is_original\"]==0,['source_score']].isna().sum()"
   ]
  },
  {
   "cell_type": "code",
   "execution_count": 25,
   "id": "78dc1245",
   "metadata": {},
   "outputs": [
    {
     "data": {
      "text/plain": [
       "3154"
      ]
     },
     "execution_count": 25,
     "metadata": {},
     "output_type": "execute_result"
    }
   ],
   "source": [
    "df_clean.source_score.isna().sum()"
   ]
  },
  {
   "cell_type": "markdown",
   "id": "eefc8574",
   "metadata": {},
   "source": [
    "The rest we fill with 0 as they don't have a source."
   ]
  },
  {
   "cell_type": "code",
   "execution_count": 26,
   "id": "1e1f8e94",
   "metadata": {},
   "outputs": [],
   "source": [
    "df_clean.source_score.fillna(value=0,inplace=True)"
   ]
  },
  {
   "cell_type": "markdown",
   "id": "63ade9dd",
   "metadata": {},
   "source": [
    "The missing studio we will fill with unknown."
   ]
  },
  {
   "cell_type": "code",
   "execution_count": 27,
   "id": "68c371ed",
   "metadata": {},
   "outputs": [],
   "source": [
    "df_clean.studio.fillna(value=\"unknown\",inplace=True)"
   ]
  },
  {
   "cell_type": "markdown",
   "id": "0a56b983",
   "metadata": {},
   "source": [
    "Now our DataFrame doesn't have missing value anymore."
   ]
  },
  {
   "cell_type": "code",
   "execution_count": 28,
   "id": "1632cd01",
   "metadata": {},
   "outputs": [
    {
     "name": "stdout",
     "output_type": "stream",
     "text": [
      "<class 'pandas.core.frame.DataFrame'>\n",
      "Int64Index: 11571 entries, 0 to 11601\n",
      "Data columns (total 11 columns):\n",
      " #   Column         Non-Null Count  Dtype  \n",
      "---  ------         --------------  -----  \n",
      " 0   name           11571 non-null  object \n",
      " 1   score          11571 non-null  float64\n",
      " 2   type           11571 non-null  object \n",
      " 3   genres         11571 non-null  object \n",
      " 4   members        11571 non-null  object \n",
      " 5   have_prequal   11571 non-null  int64  \n",
      " 6   prequal_score  11571 non-null  float64\n",
      " 7   is_original    11571 non-null  int64  \n",
      " 8   source_score   11571 non-null  float64\n",
      " 9   studio         11571 non-null  object \n",
      " 10  synopsis       11571 non-null  object \n",
      "dtypes: float64(3), int64(2), object(6)\n",
      "memory usage: 1.1+ MB\n"
     ]
    }
   ],
   "source": [
    "df_clean.info()"
   ]
  },
  {
   "cell_type": "markdown",
   "id": "da54f351",
   "metadata": {},
   "source": [
    "we can see that the member column is an object type and not int let's fix it"
   ]
  },
  {
   "cell_type": "code",
   "execution_count": 29,
   "id": "a04fb87b",
   "metadata": {},
   "outputs": [
    {
     "name": "stdout",
     "output_type": "stream",
     "text": [
      "object\n",
      "int32\n"
     ]
    }
   ],
   "source": [
    "print(df_clean['members'].dtype)\n",
    "df_clean['members'] = df_clean.members.str.split(',').str.join('').astype(int)\n",
    "print(df_clean['members'].dtype)"
   ]
  },
  {
   "cell_type": "code",
   "execution_count": 30,
   "id": "564108cf",
   "metadata": {},
   "outputs": [
    {
     "name": "stdout",
     "output_type": "stream",
     "text": [
      "<class 'pandas.core.frame.DataFrame'>\n",
      "Int64Index: 11571 entries, 0 to 11601\n",
      "Data columns (total 11 columns):\n",
      " #   Column         Non-Null Count  Dtype  \n",
      "---  ------         --------------  -----  \n",
      " 0   name           11571 non-null  object \n",
      " 1   score          11571 non-null  float64\n",
      " 2   type           11571 non-null  object \n",
      " 3   genres         11571 non-null  object \n",
      " 4   members        11571 non-null  int32  \n",
      " 5   have_prequal   11571 non-null  int64  \n",
      " 6   prequal_score  11571 non-null  float64\n",
      " 7   is_original    11571 non-null  int64  \n",
      " 8   source_score   11571 non-null  float64\n",
      " 9   studio         11571 non-null  object \n",
      " 10  synopsis       11571 non-null  object \n",
      "dtypes: float64(3), int32(1), int64(2), object(5)\n",
      "memory usage: 1.0+ MB\n"
     ]
    }
   ],
   "source": [
    "df_clean.info()"
   ]
  },
  {
   "cell_type": "markdown",
   "id": "ab05fb8c",
   "metadata": {},
   "source": [
    "apparently, pandas save list values as strings that's a problem we have to fix. I found a tutorial on how to fix it and it works well. [link](https://towardsdatascience.com/dealing-with-list-values-in-pandas-dataframes-a177e534f173)"
   ]
  },
  {
   "cell_type": "code",
   "execution_count": 31,
   "id": "6f201fc6",
   "metadata": {},
   "outputs": [
    {
     "data": {
      "text/plain": [
       "str"
      ]
     },
     "execution_count": 31,
     "metadata": {},
     "output_type": "execute_result"
    }
   ],
   "source": [
    "type(df_clean[\"genres\"][0])"
   ]
  },
  {
   "cell_type": "code",
   "execution_count": 32,
   "id": "9af5ff02",
   "metadata": {},
   "outputs": [],
   "source": [
    "df_clean[\"genres\"] = df_clean[\"genres\"].apply(eval)"
   ]
  },
  {
   "cell_type": "code",
   "execution_count": 33,
   "id": "615480a9",
   "metadata": {},
   "outputs": [
    {
     "data": {
      "text/plain": [
       "list"
      ]
     },
     "execution_count": 33,
     "metadata": {},
     "output_type": "execute_result"
    }
   ],
   "source": [
    "type(df_clean[\"genres\"][0])"
   ]
  },
  {
   "cell_type": "code",
   "execution_count": 34,
   "id": "55466cbb",
   "metadata": {},
   "outputs": [],
   "source": [
    "def to_1D(series):\n",
    "    return pd.Series([x for _list in series for x in _list])"
   ]
  },
  {
   "cell_type": "code",
   "execution_count": 35,
   "id": "3d7daff8",
   "metadata": {},
   "outputs": [],
   "source": [
    "unique_items = to_1D(df_clean[\"genres\"]).value_counts()"
   ]
  },
  {
   "cell_type": "code",
   "execution_count": 36,
   "id": "29a23c85",
   "metadata": {},
   "outputs": [
    {
     "name": "stdout",
     "output_type": "stream",
     "text": [
      "Comedy               4663\n",
      "Action               3514\n",
      "Fantasy              2702\n",
      "Adventure            2442\n",
      "Sci-Fi               2226\n",
      "                     ... \n",
      "Romantic Subtext       29\n",
      "Crossdressing          27\n",
      "Showbiz                22\n",
      "Magical Sex Shift      20\n",
      "Award Winning           5\n",
      "Length: 74, dtype: int64\n"
     ]
    }
   ],
   "source": [
    "print(unique_items)"
   ]
  },
  {
   "cell_type": "code",
   "execution_count": 37,
   "id": "f28ded40",
   "metadata": {},
   "outputs": [
    {
     "data": {
      "text/plain": [
       "<AxesSubplot:ylabel='None'>"
      ]
     },
     "execution_count": 37,
     "metadata": {},
     "output_type": "execute_result"
    },
    {
     "data": {
      "image/png": "[encoded data removed]",
      "text/plain": [
       "<Figure size 432x288 with 1 Axes>"
      ]
     },
     "metadata": {},
     "output_type": "display_data"
    }
   ],
   "source": [
    "unique_items.plot(kind='pie')"
   ]
  },
  {
   "cell_type": "markdown",
   "id": "db84c824",
   "metadata": {},
   "source": [
    "let's find and delete the animes without genres."
   ]
  },
  {
   "cell_type": "code",
   "execution_count": 38,
   "id": "875026bd",
   "metadata": {},
   "outputs": [],
   "source": [
    "to_del=[]\n",
    "for i,_list in enumerate(df_clean[\"genres\"]):\n",
    "    if (_list==[]):\n",
    "        to_del.append(i)\n",
    "\n",
    "    "
   ]
  },
  {
   "cell_type": "code",
   "execution_count": 39,
   "id": "be546f47",
   "metadata": {},
   "outputs": [
    {
     "name": "stdout",
     "output_type": "stream",
     "text": [
      "(11571, 11)\n",
      "(11534, 11)\n"
     ]
    }
   ],
   "source": [
    "print(df_clean.shape)\n",
    "df_clean.drop(index=to_del,inplace=True)\n",
    "df_clean.reset_index(drop=True,inplace=True)\n",
    "print(df_clean.shape)"
   ]
  },
  {
   "cell_type": "markdown",
   "id": "a67496ba",
   "metadata": {},
   "source": [
    "# 3. EDA"
   ]
  },
  {
   "cell_type": "markdown",
   "id": "4299d3c4",
   "metadata": {},
   "source": [
    "let's check the correlation between the source score and the score, the prequel score, and the score and the source score prequel score."
   ]
  },
  {
   "cell_type": "code",
   "execution_count": 40,
   "id": "94484fd4",
   "metadata": {},
   "outputs": [
    {
     "data": {
      "text/plain": [
       "<AxesSubplot:>"
      ]
     },
     "execution_count": 40,
     "metadata": {},
     "output_type": "execute_result"
    },
    {
     "data": {
      "image/png": "[encoded data removed]",
      "text/plain": [
       "<Figure size 1440x360 with 6 Axes>"
      ]
     },
     "metadata": {
      "needs_background": "light"
     },
     "output_type": "display_data"
    }
   ],
   "source": [
    "corr1=df_clean[df_clean[\"source_score\"]!=0][[\"score\",\"source_score\"]].corr()\n",
    "corr2=df_clean[df_clean[\"prequal_score\"]!=0][[\"score\",\"prequal_score\"]].corr()\n",
    "corr3=df_clean[(df_clean[\"prequal_score\"]!=0)&(df_clean[\"source_score\"]!=0)][[\"prequal_score\",\"source_score\"]].corr()\n",
    "fig, ax = plt.subplots(1, 3,figsize=(20,5))\n",
    "sns.heatmap(corr1, annot=True, ax=ax[0])\n",
    "sns.heatmap(corr2, annot=True, ax=ax[1])\n",
    "sns.heatmap(corr3, annot=True, ax=ax[2])"
   ]
  },
  {
   "cell_type": "markdown",
   "id": "3d1047ea",
   "metadata": {},
   "source": [
    "we can see there is a strong correlation between the prequel score and the score (0.87).\n"
   ]
  },
  {
   "cell_type": "markdown",
   "id": "7aca2000",
   "metadata": {},
   "source": [
    "in this pie chart, we can see the Distribution of different anime types, and we can see there are as many as 2-3 times more tv shows than the rest of the types."
   ]
  },
  {
   "cell_type": "code",
   "execution_count": 41,
   "id": "3c6d88c6",
   "metadata": {},
   "outputs": [
    {
     "name": "stdout",
     "output_type": "stream",
     "text": [
      "TV         4141\n",
      "Movie      2262\n",
      "Special    1878\n",
      "OVA        1789\n",
      "ONA        1464\n",
      "Name: type, dtype: int64\n"
     ]
    },
    {
     "data": {
      "text/plain": [
       "<AxesSubplot:ylabel='type'>"
      ]
     },
     "execution_count": 41,
     "metadata": {},
     "output_type": "execute_result"
    },
    {
     "data": {
      "image/png": "[encoded data removed]",
      "text/plain": [
       "<Figure size 432x288 with 1 Axes>"
      ]
     },
     "metadata": {},
     "output_type": "display_data"
    }
   ],
   "source": [
    "print(df_clean.type.value_counts())\n",
    "df_clean.type.value_counts().plot(kind='pie')"
   ]
  },
  {
   "cell_type": "markdown",
   "id": "6c2a1ff1",
   "metadata": {},
   "source": [
    "I have decided to check also the mean values for each anime type of source vs regular score and prequel vs regular score."
   ]
  },
  {
   "cell_type": "code",
   "execution_count": 42,
   "id": "4d62ff75",
   "metadata": {},
   "outputs": [
    {
     "data": {
      "text/plain": [
       "<AxesSubplot:xlabel='type'>"
      ]
     },
     "execution_count": 42,
     "metadata": {},
     "output_type": "execute_result"
    },
    {
     "data": {
      "image/png": "[encoded data removed]",
      "text/plain": [
       "<Figure size 1440x360 with 2 Axes>"
      ]
     },
     "metadata": {
      "needs_background": "light"
     },
     "output_type": "display_data"
    }
   ],
   "source": [
    "fig, ax = plt.subplots(1, 2,figsize=(20,5))\n",
    "df_clean[df_clean[\"source_score\"]!=0].groupby(\"type\").mean()[[\"score\",\"source_score\"]].plot(kind=\"line\",ax=ax[0] )\n",
    "df_clean[df_clean[\"prequal_score\"]!=0].groupby(\"type\").mean()[[\"score\",\"prequal_score\"]].plot(kind=\"line\",ax=ax[1])\n"
   ]
  },
  {
   "cell_type": "markdown",
   "id": "286abb96",
   "metadata": {},
   "source": [
    "we can see that the source mean score is higher on all types, and the prequel mean score is very similar to the regular score which was expected as they have a very strong correlation."
   ]
  },
  {
   "cell_type": "markdown",
   "id": "bf096d8a",
   "metadata": {},
   "source": [
    "now let's check the means score between original anime to non-original"
   ]
  },
  {
   "cell_type": "code",
   "execution_count": 45,
   "id": "30044cdb",
   "metadata": {},
   "outputs": [
    {
     "data": {
      "text/plain": [
       "<AxesSubplot:xlabel='type'>"
      ]
     },
     "execution_count": 45,
     "metadata": {},
     "output_type": "execute_result"
    },
    {
     "data": {
      "image/png": "[encoded data removed]",
      "text/plain": [
       "<Figure size 1440x360 with 2 Axes>"
      ]
     },
     "metadata": {
      "needs_background": "light"
     },
     "output_type": "display_data"
    }
   ],
   "source": [
    "fig, ax = plt.subplots(1, 2,figsize=(20,5))\n",
    "df_clean[df_clean[\"is_original\"]==1].groupby(\"type\").mean()[[\"score\"]].plot(kind=\"line\",ax=ax[0] )\n",
    "df_clean[df_clean[\"is_original\"]==0].groupby(\"type\").mean()[[\"score\"]].plot(kind=\"line\",ax=ax[1])"
   ]
  },
  {
   "cell_type": "markdown",
   "id": "cc348ef4",
   "metadata": {},
   "source": [
    "we can see that the non-original has a higher score in all types also we can see that the ONA type has the lowest mean score in both and TV has the highest."
   ]
  },
  {
   "cell_type": "markdown",
   "id": "15510a61",
   "metadata": {},
   "source": [
    "and lastly, let's check a scatter plot for the number of members against the score."
   ]
  },
  {
   "cell_type": "code",
   "execution_count": 46,
   "id": "5ca4afec",
   "metadata": {},
   "outputs": [
    {
     "data": {
      "text/plain": [
       "<AxesSubplot:xlabel='[score]', ylabel='[members]'>"
      ]
     },
     "execution_count": 46,
     "metadata": {},
     "output_type": "execute_result"
    },
    {
     "data": {
      "image/png": "[encoded data removed]",
      "text/plain": [
       "<Figure size 432x288 with 1 Axes>"
      ]
     },
     "metadata": {
      "needs_background": "light"
     },
     "output_type": "display_data"
    }
   ],
   "source": [
    "df_clean.plot.scatter(x=['score'],y=['members'])"
   ]
  },
  {
   "cell_type": "markdown",
   "id": "83c6ec34",
   "metadata": {},
   "source": [
    "we can see that more members mean higher score"
   ]
  },
  {
   "cell_type": "markdown",
   "id": "f94ada7b",
   "metadata": {},
   "source": [
    "now let's add the is_successful column, 1 means that the anime score is 7 or higher and 0 is less than 7."
   ]
  },
  {
   "cell_type": "code",
   "execution_count": 47,
   "id": "a4afebd4",
   "metadata": {},
   "outputs": [],
   "source": [
    "df_clean[\"is_successful\"]=np.where(df_clean[\"score\"] >=7, 1, 0)"
   ]
  },
  {
   "cell_type": "code",
   "execution_count": 48,
   "id": "ef85b18c",
   "metadata": {},
   "outputs": [
    {
     "data": {
      "text/plain": [
       "0    7693\n",
       "1    3841\n",
       "Name: is_successful, dtype: int64"
      ]
     },
     "execution_count": 48,
     "metadata": {},
     "output_type": "execute_result"
    }
   ],
   "source": [
    "df_clean[\"is_successful\"].value_counts()"
   ]
  },
  {
   "cell_type": "markdown",
   "id": "38b34c49",
   "metadata": {},
   "source": [
    "now let's encode the categorical values. for the genres column, I used MultiLabelBinarizer to encode which creat a one-hot matrix. I couldn't use the OneHotEncoder because the genres column had a list as a value, for the type and studio column I used LabelEncoder "
   ]
  },
  {
   "cell_type": "code",
   "execution_count": 49,
   "id": "0747d4cc",
   "metadata": {},
   "outputs": [
    {
     "data": {
      "text/html": [
       "<div>\n",
       "<style scoped>\n",
       "    .dataframe tbody tr th:only-of-type {\n",
       "        vertical-align: middle;\n",
       "    }\n",
       "\n",
       "    .dataframe tbody tr th {\n",
       "        vertical-align: top;\n",
       "    }\n",
       "\n",
       "    .dataframe thead th {\n",
       "        text-align: right;\n",
       "    }\n",
       "</style>\n",
       "<table border=\"1\" class=\"dataframe\">\n",
       "  <thead>\n",
       "    <tr style=\"text-align: right;\">\n",
       "      <th></th>\n",
       "      <th>name</th>\n",
       "      <th>score</th>\n",
       "      <th>type</th>\n",
       "      <th>members</th>\n",
       "      <th>have_prequal</th>\n",
       "      <th>prequal_score</th>\n",
       "      <th>is_original</th>\n",
       "      <th>source_score</th>\n",
       "      <th>studio</th>\n",
       "      <th>synopsis</th>\n",
       "      <th>...</th>\n",
       "      <th>Super Power</th>\n",
       "      <th>Supernatural</th>\n",
       "      <th>Survival</th>\n",
       "      <th>Suspense</th>\n",
       "      <th>Team Sports</th>\n",
       "      <th>Time Travel</th>\n",
       "      <th>Vampire</th>\n",
       "      <th>Video Game</th>\n",
       "      <th>Visual Arts</th>\n",
       "      <th>Workplace</th>\n",
       "    </tr>\n",
       "  </thead>\n",
       "  <tbody>\n",
       "    <tr>\n",
       "      <th>0</th>\n",
       "      <td>Fullmetal Alchemist: Brotherhood</td>\n",
       "      <td>9.14</td>\n",
       "      <td>4</td>\n",
       "      <td>2893173</td>\n",
       "      <td>0</td>\n",
       "      <td>0.00</td>\n",
       "      <td>0</td>\n",
       "      <td>9.06</td>\n",
       "      <td>73</td>\n",
       "      <td>After a horrific alchemy experiment goes wrong...</td>\n",
       "      <td>...</td>\n",
       "      <td>0</td>\n",
       "      <td>0</td>\n",
       "      <td>0</td>\n",
       "      <td>0</td>\n",
       "      <td>0</td>\n",
       "      <td>0</td>\n",
       "      <td>0</td>\n",
       "      <td>0</td>\n",
       "      <td>0</td>\n",
       "      <td>0</td>\n",
       "    </tr>\n",
       "    <tr>\n",
       "      <th>1</th>\n",
       "      <td>Gintama°</td>\n",
       "      <td>9.08</td>\n",
       "      <td>4</td>\n",
       "      <td>536913</td>\n",
       "      <td>1</td>\n",
       "      <td>8.93</td>\n",
       "      <td>0</td>\n",
       "      <td>8.62</td>\n",
       "      <td>61</td>\n",
       "      <td>Gintoki, Shinpachi, and Kagura return as the f...</td>\n",
       "      <td>...</td>\n",
       "      <td>0</td>\n",
       "      <td>0</td>\n",
       "      <td>0</td>\n",
       "      <td>0</td>\n",
       "      <td>0</td>\n",
       "      <td>0</td>\n",
       "      <td>0</td>\n",
       "      <td>0</td>\n",
       "      <td>0</td>\n",
       "      <td>0</td>\n",
       "    </tr>\n",
       "    <tr>\n",
       "      <th>2</th>\n",
       "      <td>Steins;Gate</td>\n",
       "      <td>9.08</td>\n",
       "      <td>4</td>\n",
       "      <td>2245142</td>\n",
       "      <td>0</td>\n",
       "      <td>0.00</td>\n",
       "      <td>0</td>\n",
       "      <td>8.04</td>\n",
       "      <td>539</td>\n",
       "      <td>Eccentric scientist Rintarou Okabe has a never...</td>\n",
       "      <td>...</td>\n",
       "      <td>0</td>\n",
       "      <td>0</td>\n",
       "      <td>0</td>\n",
       "      <td>1</td>\n",
       "      <td>0</td>\n",
       "      <td>1</td>\n",
       "      <td>0</td>\n",
       "      <td>0</td>\n",
       "      <td>0</td>\n",
       "      <td>0</td>\n",
       "    </tr>\n",
       "    <tr>\n",
       "      <th>3</th>\n",
       "      <td>Shingeki no Kyojin Season 3 Part 2</td>\n",
       "      <td>9.07</td>\n",
       "      <td>4</td>\n",
       "      <td>1847350</td>\n",
       "      <td>1</td>\n",
       "      <td>8.62</td>\n",
       "      <td>0</td>\n",
       "      <td>8.57</td>\n",
       "      <td>540</td>\n",
       "      <td>Seeking to restore humanity's diminishing hope...</td>\n",
       "      <td>...</td>\n",
       "      <td>0</td>\n",
       "      <td>0</td>\n",
       "      <td>1</td>\n",
       "      <td>0</td>\n",
       "      <td>0</td>\n",
       "      <td>0</td>\n",
       "      <td>0</td>\n",
       "      <td>0</td>\n",
       "      <td>0</td>\n",
       "      <td>0</td>\n",
       "    </tr>\n",
       "    <tr>\n",
       "      <th>4</th>\n",
       "      <td>Gintama'</td>\n",
       "      <td>9.05</td>\n",
       "      <td>4</td>\n",
       "      <td>473330</td>\n",
       "      <td>1</td>\n",
       "      <td>8.95</td>\n",
       "      <td>0</td>\n",
       "      <td>8.62</td>\n",
       "      <td>472</td>\n",
       "      <td>After a one-year hiatus, Shinpachi Shimura ret...</td>\n",
       "      <td>...</td>\n",
       "      <td>0</td>\n",
       "      <td>0</td>\n",
       "      <td>0</td>\n",
       "      <td>0</td>\n",
       "      <td>0</td>\n",
       "      <td>0</td>\n",
       "      <td>0</td>\n",
       "      <td>0</td>\n",
       "      <td>0</td>\n",
       "      <td>0</td>\n",
       "    </tr>\n",
       "  </tbody>\n",
       "</table>\n",
       "<p>5 rows × 85 columns</p>\n",
       "</div>"
      ],
      "text/plain": [
       "                                 name  score  type  members  have_prequal  \\\n",
       "0    Fullmetal Alchemist: Brotherhood   9.14     4  2893173             0   \n",
       "1                            Gintama°   9.08     4   536913             1   \n",
       "2                         Steins;Gate   9.08     4  2245142             0   \n",
       "3  Shingeki no Kyojin Season 3 Part 2   9.07     4  1847350             1   \n",
       "4                            Gintama'   9.05     4   473330             1   \n",
       "\n",
       "   prequal_score  is_original  source_score  studio  \\\n",
       "0           0.00            0          9.06      73   \n",
       "1           8.93            0          8.62      61   \n",
       "2           0.00            0          8.04     539   \n",
       "3           8.62            0          8.57     540   \n",
       "4           8.95            0          8.62     472   \n",
       "\n",
       "                                            synopsis  ...  Super Power  \\\n",
       "0  After a horrific alchemy experiment goes wrong...  ...            0   \n",
       "1  Gintoki, Shinpachi, and Kagura return as the f...  ...            0   \n",
       "2  Eccentric scientist Rintarou Okabe has a never...  ...            0   \n",
       "3  Seeking to restore humanity's diminishing hope...  ...            0   \n",
       "4  After a one-year hiatus, Shinpachi Shimura ret...  ...            0   \n",
       "\n",
       "   Supernatural  Survival  Suspense  Team Sports  Time Travel  Vampire  \\\n",
       "0             0         0         0            0            0        0   \n",
       "1             0         0         0            0            0        0   \n",
       "2             0         0         1            0            1        0   \n",
       "3             0         1         0            0            0        0   \n",
       "4             0         0         0            0            0        0   \n",
       "\n",
       "   Video Game  Visual Arts  Workplace  \n",
       "0           0            0          0  \n",
       "1           0            0          0  \n",
       "2           0            0          0  \n",
       "3           0            0          0  \n",
       "4           0            0          0  \n",
       "\n",
       "[5 rows x 85 columns]"
      ]
     },
     "execution_count": 49,
     "metadata": {},
     "output_type": "execute_result"
    }
   ],
   "source": [
    "from sklearn.preprocessing import MultiLabelBinarizer\n",
    "from sklearn.preprocessing import LabelEncoder\n",
    "mlb=MultiLabelBinarizer()\n",
    "final_df=df_clean.copy()\n",
    "temp = mlb.fit_transform(final_df['genres'])\n",
    "final_df= final_df.join(pd.DataFrame(temp, columns=mlb.classes_))\n",
    "final_df[\"type\"]=LabelEncoder().fit_transform(final_df[\"type\"])\n",
    "final_df[\"studio\"]=LabelEncoder().fit_transform(final_df[\"studio\"])\n",
    "final_df.drop(columns=['genres'],inplace=True)\n",
    "final_df.head()"
   ]
  },
  {
   "cell_type": "markdown",
   "id": "5b76e74e",
   "metadata": {},
   "source": [
    "let's create a word cloud for the successful anime's synopsis and a word cloud for the non-successful anime's synopsis and see if there is a difference visible to the eye."
   ]
  },
  {
   "cell_type": "code",
   "execution_count": 48,
   "id": "36a03335",
   "metadata": {},
   "outputs": [
    {
     "data": {
      "image/png": "[encoded data removed]",
      "text/plain": [
       "<Figure size 432x288 with 1 Axes>"
      ]
     },
     "metadata": {
      "needs_background": "light"
     },
     "output_type": "display_data"
    }
   ],
   "source": [
    "from wordcloud import WordCloud\n",
    "text = \" \".join(review for review in final_df[final_df[\"is_successful\"]==1][\"synopsis\"])\n",
    "wordcloud = WordCloud(max_font_size=50, max_words=75, background_color=\"white\",collocations=False).generate_from_text(text)\n",
    "plt.figure()\n",
    "plt.imshow(wordcloud, interpolation=\"bilinear\")\n",
    "plt.axis(\"off\")\n",
    "plt.show()"
   ]
  },
  {
   "cell_type": "code",
   "execution_count": 49,
   "id": "46bd8021",
   "metadata": {},
   "outputs": [
    {
     "data": {
      "image/png": "[encoded data removed]",
      "text/plain": [
       "<Figure size 432x288 with 1 Axes>"
      ]
     },
     "metadata": {
      "needs_background": "light"
     },
     "output_type": "display_data"
    }
   ],
   "source": [
    "text = \" \".join(review for review in final_df[final_df[\"is_successful\"]==0][\"synopsis\"])\n",
    "wordcloud = WordCloud(max_font_size=50, max_words=75, background_color=\"white\",collocations=False).generate_from_text(text)\n",
    "plt.figure()\n",
    "plt.imshow(wordcloud, interpolation=\"bilinear\")\n",
    "plt.axis(\"off\")\n",
    "plt.show()"
   ]
  },
  {
   "cell_type": "markdown",
   "id": "429d5580",
   "metadata": {},
   "source": [
    "and they are very much similar and I don't see a real difference."
   ]
  },
  {
   "cell_type": "markdown",
   "id": "082a0342",
   "metadata": {},
   "source": [
    "# 5. Advanced data analysis"
   ]
  },
  {
   "cell_type": "markdown",
   "id": "3fff7159",
   "metadata": {},
   "source": [
    "in this part, I understood that I have a big problem cause part of the data is text (the synopsis) which needs different handling than my numerical values. after a few hours, I found the concept of Hybrid Machine Learning Models and the package [mlxtend](http://rasbt.github.io/mlxtend/) ([in this video](https://www.youtube.com/watch?v=E2_IhBKxBxM&list=WL&index=2)). mlxtend offers a classifier that takes multiple models' answers and combines them into one by \"voting\". so I will build a model for the text and a model for the rest and combine them. ![image](http://rasbt.github.io/mlxtend/user_guide/classifier/EnsembleVoteClassifier_files/majority_voting.png)"
   ]
  },
  {
   "cell_type": "markdown",
   "id": "dcd69556",
   "metadata": {},
   "source": [
    "let's split the data to train and test and drop the unnecessary columns"
   ]
  },
  {
   "cell_type": "code",
   "execution_count": 50,
   "id": "4771b6f7",
   "metadata": {},
   "outputs": [],
   "source": [
    "from sklearn.model_selection import train_test_split\n",
    "X=final_df.drop(columns=[\"name\",\"score\",\"is_successful\"])\n",
    "y=final_df.is_successful\n",
    "X_train, X_test, y_train, y_test = train_test_split(X, y, test_size=0.20, random_state=42)"
   ]
  },
  {
   "cell_type": "markdown",
   "id": "cd755058",
   "metadata": {},
   "source": [
    "###  1. the text model"
   ]
  },
  {
   "cell_type": "markdown",
   "id": "7fe9c22c",
   "metadata": {},
   "source": [
    "I started with tying the Naive Bayes classifier "
   ]
  },
  {
   "cell_type": "code",
   "execution_count": 51,
   "id": "4af4c26d",
   "metadata": {},
   "outputs": [],
   "source": [
    "from sklearn.feature_extraction.text import CountVectorizer\n",
    "from sklearn import preprocessing\n",
    "from sklearn.naive_bayes import MultinomialNB\n",
    "from sklearn.pipeline import Pipeline\n",
    "from sklearn.metrics import plot_confusion_matrix,classification_report, accuracy_score\n",
    "text_clf_nb = Pipeline([\n",
    "    ('vect', CountVectorizer(stop_words=\"english\",min_df=5,max_features=500)),\n",
    "    ('norm', preprocessing.Normalizer(norm='l1')),\n",
    "    ('clf', MultinomialNB()),\n",
    "])"
   ]
  },
  {
   "cell_type": "code",
   "execution_count": 52,
   "id": "bc1ed114",
   "metadata": {},
   "outputs": [
    {
     "name": "stdout",
     "output_type": "stream",
     "text": [
      "0.6623320329432163\n"
     ]
    },
    {
     "name": "stderr",
     "output_type": "stream",
     "text": [
      "C:\\Users\\User\\anaconda3\\lib\\site-packages\\sklearn\\utils\\deprecation.py:87: FutureWarning: Function plot_confusion_matrix is deprecated; Function `plot_confusion_matrix` is deprecated in 1.0 and will be removed in 1.2. Use one of the class methods: ConfusionMatrixDisplay.from_predictions or ConfusionMatrixDisplay.from_estimator.\n",
      "  warnings.warn(msg, category=FutureWarning)\n"
     ]
    },
    {
     "data": {
      "text/plain": [
       "<sklearn.metrics._plot.confusion_matrix.ConfusionMatrixDisplay at 0x174279bf520>"
      ]
     },
     "execution_count": 52,
     "metadata": {},
     "output_type": "execute_result"
    },
    {
     "data": {
      "image/png": "[encoded data removed]",
      "text/plain": [
       "<Figure size 432x288 with 2 Axes>"
      ]
     },
     "metadata": {
      "needs_background": "light"
     },
     "output_type": "display_data"
    }
   ],
   "source": [
    "text_clf_nb.fit(X_train.synopsis,y_train)\n",
    "pred=text_clf_nb.predict(X_test.synopsis)\n",
    "print(accuracy_score(y_test,pred))\n",
    "plot_confusion_matrix(text_clf_nb,X_test.synopsis,y_test, normalize = \"true\")"
   ]
  },
  {
   "cell_type": "code",
   "execution_count": 53,
   "id": "e86772f3",
   "metadata": {},
   "outputs": [
    {
     "name": "stdout",
     "output_type": "stream",
     "text": [
      "              precision    recall  f1-score   support\n",
      "\n",
      "           0       0.66      1.00      0.80      1527\n",
      "           1       1.00      0.00      0.00       780\n",
      "\n",
      "    accuracy                           0.66      2307\n",
      "   macro avg       0.83      0.50      0.40      2307\n",
      "weighted avg       0.78      0.66      0.53      2307\n",
      "\n"
     ]
    }
   ],
   "source": [
    "from sklearn import metrics\n",
    "print(metrics.classification_report(y_test, pred))"
   ]
  },
  {
   "cell_type": "markdown",
   "id": "d119adfc",
   "metadata": {},
   "source": [
    "66% but it looks like he doesn't work well on our data.\n"
   ]
  },
  {
   "cell_type": "markdown",
   "id": "b33f92a3",
   "metadata": {},
   "source": [
    "let's try now the SVM classifier."
   ]
  },
  {
   "cell_type": "code",
   "execution_count": 54,
   "id": "19118690",
   "metadata": {},
   "outputs": [
    {
     "name": "stdout",
     "output_type": "stream",
     "text": [
      "0.7459904638058084\n"
     ]
    },
    {
     "name": "stderr",
     "output_type": "stream",
     "text": [
      "C:\\Users\\User\\anaconda3\\lib\\site-packages\\sklearn\\utils\\deprecation.py:87: FutureWarning: Function plot_confusion_matrix is deprecated; Function `plot_confusion_matrix` is deprecated in 1.0 and will be removed in 1.2. Use one of the class methods: ConfusionMatrixDisplay.from_predictions or ConfusionMatrixDisplay.from_estimator.\n",
      "  warnings.warn(msg, category=FutureWarning)\n"
     ]
    },
    {
     "data": {
      "text/plain": [
       "<sklearn.metrics._plot.confusion_matrix.ConfusionMatrixDisplay at 0x174290054f0>"
      ]
     },
     "execution_count": 54,
     "metadata": {},
     "output_type": "execute_result"
    },
    {
     "data": {
      "image/png": "[encoded data removed]",
      "text/plain": [
       "<Figure size 432x288 with 2 Axes>"
      ]
     },
     "metadata": {
      "needs_background": "light"
     },
     "output_type": "display_data"
    }
   ],
   "source": [
    "from sklearn.linear_model import SGDClassifier\n",
    "text_clf_svm = Pipeline([\n",
    "    ('vect', CountVectorizer(stop_words=\"english\",min_df=5,max_features=500,analyzer='word')),\n",
    "    ('norm', preprocessing.Normalizer(norm='l1')),\n",
    "    ('clf', SGDClassifier(loss=\"hinge\")),\n",
    "])\n",
    "\n",
    "text_clf_svm.fit(X_train.synopsis,y_train)\n",
    "\n",
    "predicted = text_clf_svm.predict(X_test.synopsis)\n",
    "print(accuracy_score(y_test,predicted))\n",
    "plot_confusion_matrix(text_clf_svm,X_test.synopsis,y_test, normalize = \"true\")"
   ]
  },
  {
   "cell_type": "markdown",
   "id": "fe63cda0",
   "metadata": {},
   "source": [
    "and he works much better at 74% and his result makes more sense."
   ]
  },
  {
   "cell_type": "code",
   "execution_count": 55,
   "id": "9a5c8bf0",
   "metadata": {},
   "outputs": [
    {
     "data": {
      "text/plain": [
       "0.7479134107162582"
      ]
     },
     "execution_count": 55,
     "metadata": {},
     "output_type": "execute_result"
    }
   ],
   "source": [
    "from sklearn.model_selection import cross_val_score\n",
    "cross_val_score(text_clf_svm,X_train.synopsis,y_train,cv=10,scoring='accuracy').mean()"
   ]
  },
  {
   "cell_type": "markdown",
   "id": "f300c3ea",
   "metadata": {},
   "source": [
    "let's find what is the best parameters for our model"
   ]
  },
  {
   "cell_type": "code",
   "execution_count": 56,
   "id": "7f81db3d",
   "metadata": {},
   "outputs": [],
   "source": [
    "params={}\n",
    "params['vect__min_df']=[1,2,3,4,5]\n",
    "params['vect__max_features']=[100,500,1000,2000,3000,4000]\n",
    "params['clf__penalty']=['l1','l2','elasticnet']\n",
    "params['clf__average']=[True, False]"
   ]
  },
  {
   "cell_type": "code",
   "execution_count": 57,
   "id": "ae9c982d",
   "metadata": {},
   "outputs": [
    {
     "data": {
      "text/html": [
       "<style>#sk-container-id-1 {color: black;background-color: white;}#sk-container-id-1 pre{padding: 0;}#sk-container-id-1 div.sk-toggleable {background-color: white;}#sk-container-id-1 label.sk-toggleable__label {cursor: pointer;display: block;width: 100%;margin-bottom: 0;padding: 0.3em;box-sizing: border-box;text-align: center;}#sk-container-id-1 label.sk-toggleable__label-arrow:before {content: \"▸\";float: left;margin-right: 0.25em;color: #696969;}#sk-container-id-1 label.sk-toggleable__label-arrow:hover:before {color: black;}#sk-container-id-1 div.sk-estimator:hover label.sk-toggleable__label-arrow:before {color: black;}#sk-container-id-1 div.sk-toggleable__content {max-height: 0;max-width: 0;overflow: hidden;text-align: left;background-color: #f0f8ff;}#sk-container-id-1 div.sk-toggleable__content pre {margin: 0.2em;color: black;border-radius: 0.25em;background-color: #f0f8ff;}#sk-container-id-1 input.sk-toggleable__control:checked~div.sk-toggleable__content {max-height: 200px;max-width: 100%;overflow: auto;}#sk-container-id-1 input.sk-toggleable__control:checked~label.sk-toggleable__label-arrow:before {content: \"▾\";}#sk-container-id-1 div.sk-estimator input.sk-toggleable__control:checked~label.sk-toggleable__label {background-color: #d4ebff;}#sk-container-id-1 div.sk-label input.sk-toggleable__control:checked~label.sk-toggleable__label {background-color: #d4ebff;}#sk-container-id-1 input.sk-hidden--visually {border: 0;clip: rect(1px 1px 1px 1px);clip: rect(1px, 1px, 1px, 1px);height: 1px;margin: -1px;overflow: hidden;padding: 0;position: absolute;width: 1px;}#sk-container-id-1 div.sk-estimator {font-family: monospace;background-color: #f0f8ff;border: 1px dotted black;border-radius: 0.25em;box-sizing: border-box;margin-bottom: 0.5em;}#sk-container-id-1 div.sk-estimator:hover {background-color: #d4ebff;}#sk-container-id-1 div.sk-parallel-item::after {content: \"\";width: 100%;border-bottom: 1px solid gray;flex-grow: 1;}#sk-container-id-1 div.sk-label:hover label.sk-toggleable__label {background-color: #d4ebff;}#sk-container-id-1 div.sk-serial::before {content: \"\";position: absolute;border-left: 1px solid gray;box-sizing: border-box;top: 0;bottom: 0;left: 50%;z-index: 0;}#sk-container-id-1 div.sk-serial {display: flex;flex-direction: column;align-items: center;background-color: white;padding-right: 0.2em;padding-left: 0.2em;position: relative;}#sk-container-id-1 div.sk-item {position: relative;z-index: 1;}#sk-container-id-1 div.sk-parallel {display: flex;align-items: stretch;justify-content: center;background-color: white;position: relative;}#sk-container-id-1 div.sk-item::before, #sk-container-id-1 div.sk-parallel-item::before {content: \"\";position: absolute;border-left: 1px solid gray;box-sizing: border-box;top: 0;bottom: 0;left: 50%;z-index: -1;}#sk-container-id-1 div.sk-parallel-item {display: flex;flex-direction: column;z-index: 1;position: relative;background-color: white;}#sk-container-id-1 div.sk-parallel-item:first-child::after {align-self: flex-end;width: 50%;}#sk-container-id-1 div.sk-parallel-item:last-child::after {align-self: flex-start;width: 50%;}#sk-container-id-1 div.sk-parallel-item:only-child::after {width: 0;}#sk-container-id-1 div.sk-dashed-wrapped {border: 1px dashed gray;margin: 0 0.4em 0.5em 0.4em;box-sizing: border-box;padding-bottom: 0.4em;background-color: white;}#sk-container-id-1 div.sk-label label {font-family: monospace;font-weight: bold;display: inline-block;line-height: 1.2em;}#sk-container-id-1 div.sk-label-container {text-align: center;}#sk-container-id-1 div.sk-container {/* jupyter's `normalize.less` sets `[hidden] { display: none; }` but bootstrap.min.css set `[hidden] { display: none !important; }` so we also need the `!important` here to be able to override the default hidden behavior on the sphinx rendered scikit-learn.org. See: https://github.com/scikit-learn/scikit-learn/issues/21755 */display: inline-block !important;position: relative;}#sk-container-id-1 div.sk-text-repr-fallback {display: none;}</style><div id=\"sk-container-id-1\" class=\"sk-top-container\"><div class=\"sk-text-repr-fallback\"><pre>GridSearchCV(cv=5,\n",
       "             estimator=Pipeline(steps=[(&#x27;vect&#x27;,\n",
       "                                        CountVectorizer(max_features=500,\n",
       "                                                        min_df=5,\n",
       "                                                        stop_words=&#x27;english&#x27;)),\n",
       "                                       (&#x27;norm&#x27;, Normalizer(norm=&#x27;l1&#x27;)),\n",
       "                                       (&#x27;clf&#x27;, SGDClassifier())]),\n",
       "             n_jobs=-1,\n",
       "             param_grid={&#x27;clf__average&#x27;: [True, False],\n",
       "                         &#x27;clf__penalty&#x27;: [&#x27;l1&#x27;, &#x27;l2&#x27;, &#x27;elasticnet&#x27;],\n",
       "                         &#x27;vect__max_features&#x27;: [100, 500, 1000, 2000, 3000,\n",
       "                                                4000],\n",
       "                         &#x27;vect__min_df&#x27;: [1, 2, 3, 4, 5]},\n",
       "             scoring=&#x27;accuracy&#x27;)</pre><b>In a Jupyter environment, please rerun this cell to show the HTML representation or trust the notebook. <br />On GitHub, the HTML representation is unable to render, please try loading this page with nbviewer.org.</b></div><div class=\"sk-container\" hidden><div class=\"sk-item sk-dashed-wrapped\"><div class=\"sk-label-container\"><div class=\"sk-label sk-toggleable\"><input class=\"sk-toggleable__control sk-hidden--visually\" id=\"sk-estimator-id-1\" type=\"checkbox\" ><label for=\"sk-estimator-id-1\" class=\"sk-toggleable__label sk-toggleable__label-arrow\">GridSearchCV</label><div class=\"sk-toggleable__content\"><pre>GridSearchCV(cv=5,\n",
       "             estimator=Pipeline(steps=[(&#x27;vect&#x27;,\n",
       "                                        CountVectorizer(max_features=500,\n",
       "                                                        min_df=5,\n",
       "                                                        stop_words=&#x27;english&#x27;)),\n",
       "                                       (&#x27;norm&#x27;, Normalizer(norm=&#x27;l1&#x27;)),\n",
       "                                       (&#x27;clf&#x27;, SGDClassifier())]),\n",
       "             n_jobs=-1,\n",
       "             param_grid={&#x27;clf__average&#x27;: [True, False],\n",
       "                         &#x27;clf__penalty&#x27;: [&#x27;l1&#x27;, &#x27;l2&#x27;, &#x27;elasticnet&#x27;],\n",
       "                         &#x27;vect__max_features&#x27;: [100, 500, 1000, 2000, 3000,\n",
       "                                                4000],\n",
       "                         &#x27;vect__min_df&#x27;: [1, 2, 3, 4, 5]},\n",
       "             scoring=&#x27;accuracy&#x27;)</pre></div></div></div><div class=\"sk-parallel\"><div class=\"sk-parallel-item\"><div class=\"sk-item\"><div class=\"sk-label-container\"><div class=\"sk-label sk-toggleable\"><input class=\"sk-toggleable__control sk-hidden--visually\" id=\"sk-estimator-id-2\" type=\"checkbox\" ><label for=\"sk-estimator-id-2\" class=\"sk-toggleable__label sk-toggleable__label-arrow\">estimator: Pipeline</label><div class=\"sk-toggleable__content\"><pre>Pipeline(steps=[(&#x27;vect&#x27;,\n",
       "                 CountVectorizer(max_features=500, min_df=5,\n",
       "                                 stop_words=&#x27;english&#x27;)),\n",
       "                (&#x27;norm&#x27;, Normalizer(norm=&#x27;l1&#x27;)), (&#x27;clf&#x27;, SGDClassifier())])</pre></div></div></div><div class=\"sk-serial\"><div class=\"sk-item\"><div class=\"sk-serial\"><div class=\"sk-item\"><div class=\"sk-estimator sk-toggleable\"><input class=\"sk-toggleable__control sk-hidden--visually\" id=\"sk-estimator-id-3\" type=\"checkbox\" ><label for=\"sk-estimator-id-3\" class=\"sk-toggleable__label sk-toggleable__label-arrow\">CountVectorizer</label><div class=\"sk-toggleable__content\"><pre>CountVectorizer(max_features=500, min_df=5, stop_words=&#x27;english&#x27;)</pre></div></div></div><div class=\"sk-item\"><div class=\"sk-estimator sk-toggleable\"><input class=\"sk-toggleable__control sk-hidden--visually\" id=\"sk-estimator-id-4\" type=\"checkbox\" ><label for=\"sk-estimator-id-4\" class=\"sk-toggleable__label sk-toggleable__label-arrow\">Normalizer</label><div class=\"sk-toggleable__content\"><pre>Normalizer(norm=&#x27;l1&#x27;)</pre></div></div></div><div class=\"sk-item\"><div class=\"sk-estimator sk-toggleable\"><input class=\"sk-toggleable__control sk-hidden--visually\" id=\"sk-estimator-id-5\" type=\"checkbox\" ><label for=\"sk-estimator-id-5\" class=\"sk-toggleable__label sk-toggleable__label-arrow\">SGDClassifier</label><div class=\"sk-toggleable__content\"><pre>SGDClassifier()</pre></div></div></div></div></div></div></div></div></div></div></div></div>"
      ],
      "text/plain": [
       "GridSearchCV(cv=5,\n",
       "             estimator=Pipeline(steps=[('vect',\n",
       "                                        CountVectorizer(max_features=500,\n",
       "                                                        min_df=5,\n",
       "                                                        stop_words='english')),\n",
       "                                       ('norm', Normalizer(norm='l1')),\n",
       "                                       ('clf', SGDClassifier())]),\n",
       "             n_jobs=-1,\n",
       "             param_grid={'clf__average': [True, False],\n",
       "                         'clf__penalty': ['l1', 'l2', 'elasticnet'],\n",
       "                         'vect__max_features': [100, 500, 1000, 2000, 3000,\n",
       "                                                4000],\n",
       "                         'vect__min_df': [1, 2, 3, 4, 5]},\n",
       "             scoring='accuracy')"
      ]
     },
     "execution_count": 57,
     "metadata": {},
     "output_type": "execute_result"
    }
   ],
   "source": [
    "from sklearn.model_selection import GridSearchCV\n",
    "\n",
    "grid =GridSearchCV(text_clf_svm,params,cv=5,scoring='accuracy',n_jobs=-1)\n",
    "grid.fit(X_train.synopsis,y_train)"
   ]
  },
  {
   "cell_type": "code",
   "execution_count": 58,
   "id": "05097706",
   "metadata": {},
   "outputs": [
    {
     "data": {
      "text/plain": [
       "0.7522487352717515"
      ]
     },
     "execution_count": 58,
     "metadata": {},
     "output_type": "execute_result"
    }
   ],
   "source": [
    "grid.best_score_"
   ]
  },
  {
   "cell_type": "code",
   "execution_count": 59,
   "id": "13fbbf46",
   "metadata": {},
   "outputs": [
    {
     "data": {
      "text/plain": [
       "{'clf__average': False,\n",
       " 'clf__penalty': 'l1',\n",
       " 'vect__max_features': 1000,\n",
       " 'vect__min_df': 3}"
      ]
     },
     "execution_count": 59,
     "metadata": {},
     "output_type": "execute_result"
    }
   ],
   "source": [
    "grid.best_params_"
   ]
  },
  {
   "cell_type": "markdown",
   "id": "e009b656",
   "metadata": {},
   "source": [
    "now that we found the best parameters let's create the final text model"
   ]
  },
  {
   "cell_type": "code",
   "execution_count": 60,
   "id": "2957526e",
   "metadata": {},
   "outputs": [
    {
     "name": "stdout",
     "output_type": "stream",
     "text": [
      "Accuracy on training data =  0.7522488349409342\n",
      "Accuracy on test data =  0.7524924143909839\n"
     ]
    },
    {
     "name": "stderr",
     "output_type": "stream",
     "text": [
      "C:\\Users\\User\\anaconda3\\lib\\site-packages\\sklearn\\utils\\deprecation.py:87: FutureWarning: Function plot_confusion_matrix is deprecated; Function `plot_confusion_matrix` is deprecated in 1.0 and will be removed in 1.2. Use one of the class methods: ConfusionMatrixDisplay.from_predictions or ConfusionMatrixDisplay.from_estimator.\n",
      "  warnings.warn(msg, category=FutureWarning)\n"
     ]
    },
    {
     "data": {
      "text/plain": [
       "<sklearn.metrics._plot.confusion_matrix.ConfusionMatrixDisplay at 0x17424c64460>"
      ]
     },
     "execution_count": 60,
     "metadata": {},
     "output_type": "execute_result"
    },
    {
     "data": {
      "image/png": "[encoded data removed]",
      "text/plain": [
       "<Figure size 432x288 with 2 Axes>"
      ]
     },
     "metadata": {
      "needs_background": "light"
     },
     "output_type": "display_data"
    }
   ],
   "source": [
    "final_text_clf_svm = Pipeline([\n",
    "    ('vect', CountVectorizer(stop_words=\"english\",min_df=3,max_features=1000,analyzer='word')),\n",
    "    ('norm', preprocessing.Normalizer(norm='l1')),\n",
    "    ('clf', SGDClassifier(loss=\"hinge\",average=False,penalty='l1')),\n",
    "])\n",
    "\n",
    "final_text_clf_svm.fit(X_train.synopsis,y_train)\n",
    "\n",
    "predicted = final_text_clf_svm.predict(X_train.synopsis)\n",
    "print('Accuracy on training data = ', \n",
    "      accuracy_score(y_train, predicted))\n",
    "predicted = final_text_clf_svm.predict(X_test.synopsis)\n",
    "print('Accuracy on test data = ', \n",
    "      accuracy_score(y_test,predicted ))\n",
    "plot_confusion_matrix(final_text_clf_svm,X_test.synopsis,y_test, normalize = \"true\")"
   ]
  },
  {
   "cell_type": "code",
   "execution_count": 61,
   "id": "b448f512",
   "metadata": {},
   "outputs": [
    {
     "data": {
      "text/plain": [
       "0.7517066859693117"
      ]
     },
     "execution_count": 61,
     "metadata": {},
     "output_type": "execute_result"
    }
   ],
   "source": [
    "cross_val_score(final_text_clf_svm,X_train.synopsis,y_train,cv=10,scoring='accuracy').mean()"
   ]
  },
  {
   "cell_type": "markdown",
   "id": "9e518a74",
   "metadata": {},
   "source": [
    "and we have a model with 75 percent accuracy which is not bad!"
   ]
  },
  {
   "cell_type": "markdown",
   "id": "961568b7",
   "metadata": {},
   "source": [
    "### 2. the numerical model"
   ]
  },
  {
   "cell_type": "markdown",
   "id": "ef92d457",
   "metadata": {},
   "source": [
    "let's move to the numerical model. I found online a trick for the GridSearchCV so in one run he will give results for a couple of classifiers through one Pipeline, so let's use it.\n"
   ]
  },
  {
   "cell_type": "code",
   "execution_count": 76,
   "id": "6454c2d1",
   "metadata": {},
   "outputs": [],
   "source": [
    "from sklearn.ensemble import RandomForestClassifier\n",
    "from sklearn.neighbors import KNeighborsClassifier\n",
    "\n",
    "clf1=RandomForestClassifier()\n",
    "clf2=KNeighborsClassifier()"
   ]
  },
  {
   "cell_type": "code",
   "execution_count": 77,
   "id": "7af74ba9",
   "metadata": {},
   "outputs": [],
   "source": [
    "numerical_clf = Pipeline([('clf', clf1),])"
   ]
  },
  {
   "cell_type": "code",
   "execution_count": 78,
   "id": "610fb25f",
   "metadata": {},
   "outputs": [],
   "source": [
    "params1={}\n",
    "params1['clf__max_depth']=[3,4,5,6,7,8,9,10]\n",
    "params1['clf__max_features']=['sqrt', 'log2']\n",
    "params1['clf__n_estimators']=[100,200,300,400,500]\n",
    "params1['clf__class_weight']=[None,'balanced']\n",
    "params1['clf']=[clf1]"
   ]
  },
  {
   "cell_type": "code",
   "execution_count": 79,
   "id": "bc3c0c34",
   "metadata": {},
   "outputs": [],
   "source": [
    "params2={}\n",
    "params2['clf__n_neighbors']=[2,3,4,5,6,7,8,9,10]\n",
    "params2['clf']=[clf2]"
   ]
  },
  {
   "cell_type": "code",
   "execution_count": 80,
   "id": "131ee8df",
   "metadata": {},
   "outputs": [],
   "source": [
    "clf_params=[params1,params2]"
   ]
  },
  {
   "cell_type": "code",
   "execution_count": 81,
   "id": "085a447a",
   "metadata": {},
   "outputs": [
    {
     "data": {
      "text/html": [
       "<style>#sk-container-id-4 {color: black;background-color: white;}#sk-container-id-4 pre{padding: 0;}#sk-container-id-4 div.sk-toggleable {background-color: white;}#sk-container-id-4 label.sk-toggleable__label {cursor: pointer;display: block;width: 100%;margin-bottom: 0;padding: 0.3em;box-sizing: border-box;text-align: center;}#sk-container-id-4 label.sk-toggleable__label-arrow:before {content: \"▸\";float: left;margin-right: 0.25em;color: #696969;}#sk-container-id-4 label.sk-toggleable__label-arrow:hover:before {color: black;}#sk-container-id-4 div.sk-estimator:hover label.sk-toggleable__label-arrow:before {color: black;}#sk-container-id-4 div.sk-toggleable__content {max-height: 0;max-width: 0;overflow: hidden;text-align: left;background-color: #f0f8ff;}#sk-container-id-4 div.sk-toggleable__content pre {margin: 0.2em;color: black;border-radius: 0.25em;background-color: #f0f8ff;}#sk-container-id-4 input.sk-toggleable__control:checked~div.sk-toggleable__content {max-height: 200px;max-width: 100%;overflow: auto;}#sk-container-id-4 input.sk-toggleable__control:checked~label.sk-toggleable__label-arrow:before {content: \"▾\";}#sk-container-id-4 div.sk-estimator input.sk-toggleable__control:checked~label.sk-toggleable__label {background-color: #d4ebff;}#sk-container-id-4 div.sk-label input.sk-toggleable__control:checked~label.sk-toggleable__label {background-color: #d4ebff;}#sk-container-id-4 input.sk-hidden--visually {border: 0;clip: rect(1px 1px 1px 1px);clip: rect(1px, 1px, 1px, 1px);height: 1px;margin: -1px;overflow: hidden;padding: 0;position: absolute;width: 1px;}#sk-container-id-4 div.sk-estimator {font-family: monospace;background-color: #f0f8ff;border: 1px dotted black;border-radius: 0.25em;box-sizing: border-box;margin-bottom: 0.5em;}#sk-container-id-4 div.sk-estimator:hover {background-color: #d4ebff;}#sk-container-id-4 div.sk-parallel-item::after {content: \"\";width: 100%;border-bottom: 1px solid gray;flex-grow: 1;}#sk-container-id-4 div.sk-label:hover label.sk-toggleable__label {background-color: #d4ebff;}#sk-container-id-4 div.sk-serial::before {content: \"\";position: absolute;border-left: 1px solid gray;box-sizing: border-box;top: 0;bottom: 0;left: 50%;z-index: 0;}#sk-container-id-4 div.sk-serial {display: flex;flex-direction: column;align-items: center;background-color: white;padding-right: 0.2em;padding-left: 0.2em;position: relative;}#sk-container-id-4 div.sk-item {position: relative;z-index: 1;}#sk-container-id-4 div.sk-parallel {display: flex;align-items: stretch;justify-content: center;background-color: white;position: relative;}#sk-container-id-4 div.sk-item::before, #sk-container-id-4 div.sk-parallel-item::before {content: \"\";position: absolute;border-left: 1px solid gray;box-sizing: border-box;top: 0;bottom: 0;left: 50%;z-index: -1;}#sk-container-id-4 div.sk-parallel-item {display: flex;flex-direction: column;z-index: 1;position: relative;background-color: white;}#sk-container-id-4 div.sk-parallel-item:first-child::after {align-self: flex-end;width: 50%;}#sk-container-id-4 div.sk-parallel-item:last-child::after {align-self: flex-start;width: 50%;}#sk-container-id-4 div.sk-parallel-item:only-child::after {width: 0;}#sk-container-id-4 div.sk-dashed-wrapped {border: 1px dashed gray;margin: 0 0.4em 0.5em 0.4em;box-sizing: border-box;padding-bottom: 0.4em;background-color: white;}#sk-container-id-4 div.sk-label label {font-family: monospace;font-weight: bold;display: inline-block;line-height: 1.2em;}#sk-container-id-4 div.sk-label-container {text-align: center;}#sk-container-id-4 div.sk-container {/* jupyter's `normalize.less` sets `[hidden] { display: none; }` but bootstrap.min.css set `[hidden] { display: none !important; }` so we also need the `!important` here to be able to override the default hidden behavior on the sphinx rendered scikit-learn.org. See: https://github.com/scikit-learn/scikit-learn/issues/21755 */display: inline-block !important;position: relative;}#sk-container-id-4 div.sk-text-repr-fallback {display: none;}</style><div id=\"sk-container-id-4\" class=\"sk-top-container\"><div class=\"sk-text-repr-fallback\"><pre>GridSearchCV(cv=5,\n",
       "             estimator=Pipeline(steps=[(&#x27;clf&#x27;,\n",
       "                                        RandomForestClassifier(max_depth=10,\n",
       "                                                               n_estimators=400))]),\n",
       "             n_jobs=-1,\n",
       "             param_grid=[{&#x27;clf&#x27;: [RandomForestClassifier(max_depth=10,\n",
       "                                                         n_estimators=400)],\n",
       "                          &#x27;clf__class_weight&#x27;: [None, &#x27;balanced&#x27;],\n",
       "                          &#x27;clf__max_depth&#x27;: [3, 4, 5, 6, 7, 8, 9, 10],\n",
       "                          &#x27;clf__max_features&#x27;: [&#x27;sqrt&#x27;, &#x27;log2&#x27;],\n",
       "                          &#x27;clf__n_estimators&#x27;: [100, 200, 300, 400, 500]},\n",
       "                         {&#x27;clf&#x27;: [KNeighborsClassifier()],\n",
       "                          &#x27;clf__n_neighbors&#x27;: [2, 3, 4, 5, 6, 7, 8, 9, 10]}],\n",
       "             scoring=&#x27;accuracy&#x27;)</pre><b>In a Jupyter environment, please rerun this cell to show the HTML representation or trust the notebook. <br />On GitHub, the HTML representation is unable to render, please try loading this page with nbviewer.org.</b></div><div class=\"sk-container\" hidden><div class=\"sk-item sk-dashed-wrapped\"><div class=\"sk-label-container\"><div class=\"sk-label sk-toggleable\"><input class=\"sk-toggleable__control sk-hidden--visually\" id=\"sk-estimator-id-12\" type=\"checkbox\" ><label for=\"sk-estimator-id-12\" class=\"sk-toggleable__label sk-toggleable__label-arrow\">GridSearchCV</label><div class=\"sk-toggleable__content\"><pre>GridSearchCV(cv=5,\n",
       "             estimator=Pipeline(steps=[(&#x27;clf&#x27;,\n",
       "                                        RandomForestClassifier(max_depth=10,\n",
       "                                                               n_estimators=400))]),\n",
       "             n_jobs=-1,\n",
       "             param_grid=[{&#x27;clf&#x27;: [RandomForestClassifier(max_depth=10,\n",
       "                                                         n_estimators=400)],\n",
       "                          &#x27;clf__class_weight&#x27;: [None, &#x27;balanced&#x27;],\n",
       "                          &#x27;clf__max_depth&#x27;: [3, 4, 5, 6, 7, 8, 9, 10],\n",
       "                          &#x27;clf__max_features&#x27;: [&#x27;sqrt&#x27;, &#x27;log2&#x27;],\n",
       "                          &#x27;clf__n_estimators&#x27;: [100, 200, 300, 400, 500]},\n",
       "                         {&#x27;clf&#x27;: [KNeighborsClassifier()],\n",
       "                          &#x27;clf__n_neighbors&#x27;: [2, 3, 4, 5, 6, 7, 8, 9, 10]}],\n",
       "             scoring=&#x27;accuracy&#x27;)</pre></div></div></div><div class=\"sk-parallel\"><div class=\"sk-parallel-item\"><div class=\"sk-item\"><div class=\"sk-label-container\"><div class=\"sk-label sk-toggleable\"><input class=\"sk-toggleable__control sk-hidden--visually\" id=\"sk-estimator-id-13\" type=\"checkbox\" ><label for=\"sk-estimator-id-13\" class=\"sk-toggleable__label sk-toggleable__label-arrow\">estimator: Pipeline</label><div class=\"sk-toggleable__content\"><pre>Pipeline(steps=[(&#x27;clf&#x27;,\n",
       "                 RandomForestClassifier(max_depth=10, n_estimators=400))])</pre></div></div></div><div class=\"sk-serial\"><div class=\"sk-item\"><div class=\"sk-serial\"><div class=\"sk-item\"><div class=\"sk-estimator sk-toggleable\"><input class=\"sk-toggleable__control sk-hidden--visually\" id=\"sk-estimator-id-14\" type=\"checkbox\" ><label for=\"sk-estimator-id-14\" class=\"sk-toggleable__label sk-toggleable__label-arrow\">RandomForestClassifier</label><div class=\"sk-toggleable__content\"><pre>RandomForestClassifier(max_depth=10, n_estimators=400)</pre></div></div></div></div></div></div></div></div></div></div></div></div>"
      ],
      "text/plain": [
       "GridSearchCV(cv=5,\n",
       "             estimator=Pipeline(steps=[('clf',\n",
       "                                        RandomForestClassifier(max_depth=10,\n",
       "                                                               n_estimators=400))]),\n",
       "             n_jobs=-1,\n",
       "             param_grid=[{'clf': [RandomForestClassifier(max_depth=10,\n",
       "                                                         n_estimators=400)],\n",
       "                          'clf__class_weight': [None, 'balanced'],\n",
       "                          'clf__max_depth': [3, 4, 5, 6, 7, 8, 9, 10],\n",
       "                          'clf__max_features': ['sqrt', 'log2'],\n",
       "                          'clf__n_estimators': [100, 200, 300, 400, 500]},\n",
       "                         {'clf': [KNeighborsClassifier()],\n",
       "                          'clf__n_neighbors': [2, 3, 4, 5, 6, 7, 8, 9, 10]}],\n",
       "             scoring='accuracy')"
      ]
     },
     "execution_count": 81,
     "metadata": {},
     "output_type": "execute_result"
    }
   ],
   "source": [
    "grid =GridSearchCV(numerical_clf,clf_params,cv=5,scoring='accuracy',n_jobs=-1)\n",
    "grid.fit(X_train.drop(columns=[\"synopsis\"]),y_train)"
   ]
  },
  {
   "cell_type": "code",
   "execution_count": 82,
   "id": "20a1f43a",
   "metadata": {},
   "outputs": [
    {
     "data": {
      "text/plain": [
       "0.8630117414933629"
      ]
     },
     "execution_count": 82,
     "metadata": {},
     "output_type": "execute_result"
    }
   ],
   "source": [
    "grid.best_score_"
   ]
  },
  {
   "cell_type": "code",
   "execution_count": 83,
   "id": "228d3d67",
   "metadata": {},
   "outputs": [
    {
     "data": {
      "text/plain": [
       "{'clf': RandomForestClassifier(max_depth=10, n_estimators=400),\n",
       " 'clf__class_weight': None,\n",
       " 'clf__max_depth': 10,\n",
       " 'clf__max_features': 'sqrt',\n",
       " 'clf__n_estimators': 400}"
      ]
     },
     "execution_count": 83,
     "metadata": {},
     "output_type": "execute_result"
    }
   ],
   "source": [
    "grid.best_params_"
   ]
  },
  {
   "cell_type": "markdown",
   "id": "7460b14a",
   "metadata": {},
   "source": [
    "with the parameters, we found let's final model for the numerical values\n"
   ]
  },
  {
   "cell_type": "code",
   "execution_count": 84,
   "id": "52197bb2",
   "metadata": {},
   "outputs": [
    {
     "name": "stdout",
     "output_type": "stream",
     "text": [
      "Accuracy on training data =  0.890647014197464\n",
      "Accuracy on test data =  0.8625921109666234\n"
     ]
    },
    {
     "name": "stderr",
     "output_type": "stream",
     "text": [
      "C:\\Users\\User\\anaconda3\\lib\\site-packages\\sklearn\\utils\\deprecation.py:87: FutureWarning: Function plot_confusion_matrix is deprecated; Function `plot_confusion_matrix` is deprecated in 1.0 and will be removed in 1.2. Use one of the class methods: ConfusionMatrixDisplay.from_predictions or ConfusionMatrixDisplay.from_estimator.\n",
      "  warnings.warn(msg, category=FutureWarning)\n"
     ]
    },
    {
     "data": {
      "text/plain": [
       "<sklearn.metrics._plot.confusion_matrix.ConfusionMatrixDisplay at 0x1742c76c9a0>"
      ]
     },
     "execution_count": 84,
     "metadata": {},
     "output_type": "execute_result"
    },
    {
     "data": {
      "image/png": "[encoded data removed]",
      "text/plain": [
       "<Figure size 432x288 with 2 Axes>"
      ]
     },
     "metadata": {
      "needs_background": "light"
     },
     "output_type": "display_data"
    }
   ],
   "source": [
    "final_numerical_clf = Pipeline([\n",
    "    ('clf', RandomForestClassifier(max_depth=10, max_features='sqrt', n_estimators=400,class_weight = None)),\n",
    "])\n",
    "\n",
    "final_numerical_clf.fit(X_train.drop(columns=[\"synopsis\"]),y_train)\n",
    "\n",
    "predicted = final_numerical_clf.predict(X_train.drop(columns=[\"synopsis\"]))\n",
    "print('Accuracy on training data = ', \n",
    "      accuracy_score(y_train, predicted))\n",
    "predicted = final_numerical_clf.predict(X_test.drop(columns=[\"synopsis\"]))\n",
    "print('Accuracy on test data = ', \n",
    "      accuracy_score(y_test,predicted ))\n",
    "plot_confusion_matrix(final_numerical_clf,X_test.drop(columns=[\"synopsis\"]),y_test, normalize = \"true\")"
   ]
  },
  {
   "cell_type": "code",
   "execution_count": 85,
   "id": "15c2b739",
   "metadata": {},
   "outputs": [
    {
     "data": {
      "text/plain": [
       "0.8596518708446238"
      ]
     },
     "execution_count": 85,
     "metadata": {},
     "output_type": "execute_result"
    }
   ],
   "source": [
    "cross_val_score(final_numerical_clf,X_train.drop(columns=[\"synopsis\"]),y_train,cv=10,scoring='accuracy').mean()"
   ]
  },
  {
   "cell_type": "markdown",
   "id": "17ad750f",
   "metadata": {},
   "source": [
    "and we got a model with 86% accuracy which is really good, in the bar plot below we can see what features influence the model the most"
   ]
  },
  {
   "cell_type": "code",
   "execution_count": 103,
   "id": "0cd6b4fe",
   "metadata": {},
   "outputs": [
    {
     "data": {
      "image/png": "[encoded data removed]",
      "text/plain": [
       "<Figure size 2160x720 with 1 Axes>"
      ]
     },
     "metadata": {
      "needs_background": "light"
     },
     "output_type": "display_data"
    }
   ],
   "source": [
    "importances = pd.DataFrame(data={'Attribute': X_train.drop(columns=[\"synopsis\"]).columns,'Importance': final_numerical_clf['clf'].feature_importances_})\n",
    "importances = importances.sort_values(by='Importance', ascending=False)\n",
    "plt.figure(figsize=(30,10))\n",
    "plt.bar(x=importances['Attribute'], height=importances['Importance'])\n",
    "plt.xticks(rotation='vertical')\n",
    "plt.show()"
   ]
  },
  {
   "cell_type": "markdown",
   "id": "7fe9e19e",
   "metadata": {},
   "source": [
    "### 3. vote model"
   ]
  },
  {
   "cell_type": "markdown",
   "id": "e74adc22",
   "metadata": {},
   "source": [
    "because each model uses different columns we will use ColumnSelector in a new Pipeline and give each model the right columns"
   ]
  },
  {
   "cell_type": "code",
   "execution_count": 104,
   "id": "1593aa31",
   "metadata": {},
   "outputs": [],
   "source": [
    "from mlxtend.feature_selection import ColumnSelector\n",
    "pipe1 = Pipeline([('columnselect',ColumnSelector(cols=(\"synopsis\"),drop_axis=True)),('clf',final_text_clf_svm)])\n",
    "mycols=[x for x in X if x!='synopsis']\n",
    "pipe2= Pipeline([('columnselect',ColumnSelector(cols=(mycols),drop_axis=True)),('clf',final_numerical_clf)])\n"
   ]
  },
  {
   "cell_type": "markdown",
   "id": "9b1e4e15",
   "metadata": {},
   "source": [
    "because probability estimates are not available for loss='hinge we will use  CalibratedClassifierCV to calibrate the classifier"
   ]
  },
  {
   "cell_type": "code",
   "execution_count": 105,
   "id": "31fee3a5",
   "metadata": {},
   "outputs": [],
   "source": [
    "from sklearn.calibration import CalibratedClassifierCV\n",
    "clf=pipe1.fit(X_train,y_train)\n",
    "calibrator = CalibratedClassifierCV(clf,cv='prefit')\n",
    "model=calibrator.fit(X_train, y_train)\n"
   ]
  },
  {
   "cell_type": "code",
   "execution_count": 106,
   "id": "c68f643a",
   "metadata": {},
   "outputs": [
    {
     "name": "stderr",
     "output_type": "stream",
     "text": [
      "C:\\Users\\User\\anaconda3\\lib\\site-packages\\mlxtend\\classifier\\ensemble_vote.py:173: UserWarning: fit_base_estimators=False enforces use_clones to be `False`\n",
      "  warnings.warn(\n",
      "C:\\Users\\User\\anaconda3\\lib\\site-packages\\sklearn\\base.py:450: UserWarning: X does not have valid feature names, but RandomForestClassifier was fitted with feature names\n",
      "  warnings.warn(\n"
     ]
    },
    {
     "name": "stdout",
     "output_type": "stream",
     "text": [
      "0.8136107498916342\n"
     ]
    },
    {
     "name": "stderr",
     "output_type": "stream",
     "text": [
      "C:\\Users\\User\\anaconda3\\lib\\site-packages\\sklearn\\utils\\deprecation.py:87: FutureWarning: Function plot_confusion_matrix is deprecated; Function `plot_confusion_matrix` is deprecated in 1.0 and will be removed in 1.2. Use one of the class methods: ConfusionMatrixDisplay.from_predictions or ConfusionMatrixDisplay.from_estimator.\n",
      "  warnings.warn(msg, category=FutureWarning)\n",
      "C:\\Users\\User\\anaconda3\\lib\\site-packages\\sklearn\\base.py:450: UserWarning: X does not have valid feature names, but RandomForestClassifier was fitted with feature names\n",
      "  warnings.warn(\n"
     ]
    },
    {
     "data": {
      "text/plain": [
       "<sklearn.metrics._plot.confusion_matrix.ConfusionMatrixDisplay at 0x17431d8b460>"
      ]
     },
     "execution_count": 106,
     "metadata": {},
     "output_type": "execute_result"
    },
    {
     "data": {
      "image/png": "[encoded data removed]",
      "text/plain": [
       "<Figure size 432x288 with 2 Axes>"
      ]
     },
     "metadata": {
      "needs_background": "light"
     },
     "output_type": "display_data"
    }
   ],
   "source": [
    "from mlxtend.classifier import EnsembleVoteClassifier\n",
    "model_clfs = EnsembleVoteClassifier(\n",
    "    clfs = [model,pipe2],\n",
    "    voting = \"soft\",\n",
    "    weights = [1,1],\n",
    "    fit_base_estimators = False\n",
    ").fit(X_train, y_train)\n",
    "\n",
    "pred_clfs = model_clfs.predict(X_test)\n",
    "\n",
    "print(accuracy_score(y_test, pred_clfs))\n",
    "plot_confusion_matrix(model_clfs, X_test, y_test, normalize = \"true\")"
   ]
  },
  {
   "cell_type": "markdown",
   "id": "72eb83e6",
   "metadata": {},
   "source": [
    "and... we got a worse model with only 81% accuracy even after trying different parameters the best we get is the accuracy of the numerical model which means that the voting classifier just ignores the text model."
   ]
  },
  {
   "cell_type": "markdown",
   "id": "0a438bbe",
   "metadata": {},
   "source": [
    "***In conclusion***, I think we successfully answered the question of whether it's possible to predict if anime will be successful in MyAnimeList with up to 86% success if we just use the numerical classifier\n"
   ]
  },
  {
   "cell_type": "code",
   "execution_count": null,
   "id": "288f52f7",
   "metadata": {},
   "outputs": [],
   "source": []
  }
 ],
 "metadata": {
  "kernelspec": {
   "display_name": "Python 3 (ipykernel)",
   "language": "python",
   "name": "python3"
  },
  "language_info": {
   "codemirror_mode": {
    "name": "ipython",
    "version": 3
   },
   "file_extension": ".py",
   "mimetype": "text/x-python",
   "name": "python",
   "nbconvert_exporter": "python",
   "pygments_lexer": "ipython3",
   "version": "3.9.7"
  }
 },
 "nbformat": 4,
 "nbformat_minor": 5
}
